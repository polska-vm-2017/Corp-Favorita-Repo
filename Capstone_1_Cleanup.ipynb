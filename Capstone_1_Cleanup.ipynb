{
 "cells": [
  {
   "cell_type": "code",
   "execution_count": 64,
   "metadata": {},
   "outputs": [],
   "source": [
    "# Importing the relevant libraries\n",
    "import IPython.display\n",
    "import json\n",
    "import pandas as pd\n",
    "import seaborn as sns\n",
    "#import squarify\n",
    "%matplotlib inline\n",
    "import random\n",
    "#import missingno as msno\n",
    "#import plotly.offline as py\n",
    "#py.init_notebook_mode(connected=True)\n",
    "#import plotly.graph_objs as go\n",
    "#import plotly.tools as tls\n",
    "import numpy as np\n",
    "from matplotlib import pyplot as plt\n",
    "\n",
    "# D3 modules\n",
    "from IPython.core.display import display, HTML, Javascript\n",
    "from string import Template# The data to load"
   ]
  },
  {
   "cell_type": "markdown",
   "metadata": {},
   "source": [
    "# Data Import"
   ]
  },
  {
   "cell_type": "markdown",
   "metadata": {},
   "source": [
    "Because the training data is so large (125 Million rows), we will begin by taking a random sample of the rows to have a valid representative sample. My initial approach was to simply grab random rows from the training data, but upon further consideration, it's more appropriate to have all the data for a subset of the items. This way, we can obtain a better picture of the time-series continuity required for accurate predictions."
   ]
  },
  {
   "cell_type": "code",
   "execution_count": 88,
   "metadata": {},
   "outputs": [],
   "source": [
    "items = pd.read_csv(\"Data/items.csv\")\n",
    "holiday_events = pd.read_csv(\"Data/holidays_events.csv\",parse_dates=['date'])\n",
    "stores = pd.read_csv(\"Data/stores.csv\")\n",
    "oil = pd.read_csv(\"Data/oil.csv\",parse_dates=['date'])\n",
    "transactions = pd.read_csv(\"Data/transactions.csv\",parse_dates=['date'])\n",
    "test = pd.read_csv(\"Data/test.csv\",parse_dates=['date'])"
   ]
  },
  {
   "cell_type": "code",
   "execution_count": 66,
   "metadata": {},
   "outputs": [
    {
     "name": "stdout",
     "output_type": "stream",
     "text": [
      "205\n"
     ]
    },
    {
     "name": "stderr",
     "output_type": "stream",
     "text": [
      "<string>:2: DtypeWarning: Columns (5) have mixed types. Specify dtype option on import or set low_memory=False.\n"
     ]
    },
    {
     "name": "stdout",
     "output_type": "stream",
     "text": [
      "Wall time: 6min 44s\n"
     ]
    }
   ],
   "source": [
    "%%time\n",
    "\n",
    "# Grab all unique item_nbr from items file\n",
    "f = items['item_nbr'].unique()\n",
    "\n",
    "# Count the lines\n",
    "num_lines = f.size\n",
    "\n",
    "# Sample size - in this case ~5% of items\n",
    "size = int(num_lines / 20)\n",
    "\n",
    "# Grab a random subset of size size from f\n",
    "skip_idx = random.sample(list(f), size)\n",
    "print(len(skip_idx))\n",
    "\n",
    "# create a dataframe of the items we want to look at\n",
    "items = items[items['item_nbr'].isin(skip_idx)]\n",
    "\n",
    "# Read the entire training data\n",
    "train = pd.read_csv(\"Data/train.csv\", parse_dates=['date'] )\n",
    "\n",
    "# Filter to only include training data for the subset of items we want\n",
    "train = train[train['item_nbr'].isin(items['item_nbr'])]"
   ]
  },
  {
   "cell_type": "markdown",
   "metadata": {},
   "source": [
    "# Dealing with Missing Dates in the Training Set"
   ]
  },
  {
   "cell_type": "markdown",
   "metadata": {},
   "source": [
    "Examining the train DataFrame, we find that if an item had no sales at a store location on a particular day, no row exists for that store/item pair for that date. To provide a better picture for our training algorithms, it makes sense to add these missing rows and assign the unit_sales a value of 0. "
   ]
  },
  {
   "cell_type": "code",
   "execution_count": 67,
   "metadata": {},
   "outputs": [],
   "source": [
    "# Make sure the date column is of the datetime data type. \n",
    "train['date'] = pd.to_datetime(train['date'])"
   ]
  },
  {
   "cell_type": "code",
   "execution_count": 68,
   "metadata": {},
   "outputs": [],
   "source": [
    "# Create a datetime index that contains all the dates within our whole data range\n",
    "# Because there are duplicate dates in the column, we take the mean of the dates on a particular date, \n",
    "#which is effectively just the date we want\n",
    "dates = train.set_index('date').resample('D').mean().index"
   ]
  },
  {
   "cell_type": "code",
   "execution_count": 69,
   "metadata": {},
   "outputs": [],
   "source": [
    "# We also want all the unique item_nbrs and store_nbrs\n",
    "item_nbrs = train['item_nbr'].unique()\n",
    "store_nbrs = train['store_nbr'].unique()"
   ]
  },
  {
   "cell_type": "code",
   "execution_count": 70,
   "metadata": {},
   "outputs": [],
   "source": [
    "# We create a MultiIndex which will contain every possible date/item_nbr/store_nbr combination\n",
    "idx = pd.MultiIndex.from_product((dates, item_nbrs, store_nbrs), names=['date', 'item_nbr', 'store_nbr'])"
   ]
  },
  {
   "cell_type": "code",
   "execution_count": 71,
   "metadata": {},
   "outputs": [],
   "source": [
    "# We set the index of train to the new MultiIndex\n",
    "# Now every item/store pair is represented on each date\n",
    "train = train.set_index(['date', 'item_nbr', 'store_nbr']).reindex(idx).reset_index()"
   ]
  },
  {
   "cell_type": "markdown",
   "metadata": {},
   "source": [
    "Now that we have the train DataFrame, we need to fill in null unit_sales values with 0 because no units were sold that day at that location. "
   ]
  },
  {
   "cell_type": "code",
   "execution_count": 72,
   "metadata": {},
   "outputs": [],
   "source": [
    "train.loc[:, 'unit_sales'].fillna(0, inplace=True) # Replaces null values with 0\n",
    "del train['id'] # the old id column is meaningless and can be deleted"
   ]
  },
  {
   "cell_type": "markdown",
   "metadata": {},
   "source": [
    "# Checking for Null Values"
   ]
  },
  {
   "cell_type": "markdown",
   "metadata": {},
   "source": [
    "A good first step is to see which columns in which dataframes contain null values. If these appear, we will need to deal with these in some way. "
   ]
  },
  {
   "cell_type": "code",
   "execution_count": 73,
   "metadata": {},
   "outputs": [
    {
     "name": "stdout",
     "output_type": "stream",
     "text": [
      "Nulls in train columns: ['date' 'item_nbr' 'store_nbr' 'unit_sales' 'onpromotion'] => [False False False False  True]\n"
     ]
    }
   ],
   "source": [
    "print(\"Nulls in train columns: {0} => {1}\".format(train.columns.values, train.isnull().any().values))"
   ]
  },
  {
   "cell_type": "markdown",
   "metadata": {},
   "source": [
    "The onpromotion column of the train dataframe contains null values."
   ]
  },
  {
   "cell_type": "code",
   "execution_count": 74,
   "metadata": {},
   "outputs": [
    {
     "name": "stdout",
     "output_type": "stream",
     "text": [
      "Nulls in test columns: ['id' 'date' 'store_nbr' 'item_nbr' 'onpromotion'] => [False False False False False]\n"
     ]
    }
   ],
   "source": [
    "print(\"Nulls in test columns: {0} => {1}\".format(test.columns.values, test.isnull().any().values))"
   ]
  },
  {
   "cell_type": "code",
   "execution_count": 75,
   "metadata": {},
   "outputs": [
    {
     "name": "stdout",
     "output_type": "stream",
     "text": [
      "Nulls in items columns: ['item_nbr' 'family' 'class' 'perishable'] => [False False False False]\n"
     ]
    }
   ],
   "source": [
    "print(\"Nulls in items columns: {0} => {1}\".format(items.columns.values, items.isnull().any().values))"
   ]
  },
  {
   "cell_type": "code",
   "execution_count": 76,
   "metadata": {},
   "outputs": [
    {
     "name": "stdout",
     "output_type": "stream",
     "text": [
      "Nulls in holiday_events columns: ['date' 'type' 'locale' 'locale_name' 'description' 'transferred'] => [False False False False False False]\n"
     ]
    }
   ],
   "source": [
    "print(\"Nulls in holiday_events columns: {0} => {1}\".format(holiday_events.columns.values, holiday_events.isnull().any().values))"
   ]
  },
  {
   "cell_type": "code",
   "execution_count": 77,
   "metadata": {},
   "outputs": [
    {
     "name": "stdout",
     "output_type": "stream",
     "text": [
      "Nulls in stores columns: ['store_nbr' 'city' 'state' 'type' 'cluster'] => [False False False False False]\n"
     ]
    }
   ],
   "source": [
    "print(\"Nulls in stores columns: {0} => {1}\".format(stores.columns.values, stores.isnull().any().values))"
   ]
  },
  {
   "cell_type": "code",
   "execution_count": 78,
   "metadata": {},
   "outputs": [
    {
     "name": "stdout",
     "output_type": "stream",
     "text": [
      "Nulls in oil columns: ['date' 'dcoilwtico'] => [False  True]\n"
     ]
    }
   ],
   "source": [
    "print(\"Nulls in oil columns: {0} => {1}\".format(oil.columns.values, oil.isnull().any().values))"
   ]
  },
  {
   "cell_type": "code",
   "execution_count": 79,
   "metadata": {},
   "outputs": [
    {
     "name": "stdout",
     "output_type": "stream",
     "text": [
      "Nulls in transactions columns: ['date' 'store_nbr' 'transactions'] => [False False False]\n"
     ]
    }
   ],
   "source": [
    "print(\"Nulls in transactions columns: {0} => {1}\".format(transactions.columns.values, transactions.isnull().any().values))"
   ]
  },
  {
   "cell_type": "markdown",
   "metadata": {},
   "source": [
    "It looks like there are two columns that contain null values. One is the onpromotion column of the train data, and the other is the dcoilwtico column of the oil price data. "
   ]
  },
  {
   "cell_type": "markdown",
   "metadata": {},
   "source": [
    "# Dealing with Null Values"
   ]
  },
  {
   "cell_type": "markdown",
   "metadata": {},
   "source": [
    "The first column that contains null values is the onpromotion column of the train data. My initial thought was to simply change all the null values to false. However, this has the potential to mislead predictions. Instead, I followed the suggestion on the website provided to set missing values to 2, True to 1, and False to 0. "
   ]
  },
  {
   "cell_type": "markdown",
   "metadata": {},
   "source": [
    "Credit goes to: http://kevincsong.com/Kaggle-Pt.1-Favorita-Grocery-Sales-Prediction-Data-Engineering/"
   ]
  },
  {
   "cell_type": "code",
   "execution_count": 48,
   "metadata": {},
   "outputs": [],
   "source": [
    "#train.loc[:, 'onpromotion'].fillna('Null', inplace=True) # Replaces null values with 2"
   ]
  },
  {
   "cell_type": "code",
   "execution_count": 49,
   "metadata": {},
   "outputs": [],
   "source": [
    "#train.loc[:, 'onpromotion'].replace(True, 'T', inplace=True) # Replace True values with 1"
   ]
  },
  {
   "cell_type": "code",
   "execution_count": 50,
   "metadata": {},
   "outputs": [],
   "source": [
    "#train.loc[:, 'onpromotion'].replace(False, 'F', inplace=True) # Replace False values with 0"
   ]
  },
  {
   "cell_type": "markdown",
   "metadata": {},
   "source": [
    "It makes sense to make analogous changes in the test file."
   ]
  },
  {
   "cell_type": "code",
   "execution_count": 51,
   "metadata": {},
   "outputs": [],
   "source": [
    "#test.loc[:, 'onpromotion'].fillna('Null', inplace=True) # Replaces null values with 2"
   ]
  },
  {
   "cell_type": "code",
   "execution_count": 52,
   "metadata": {},
   "outputs": [],
   "source": [
    "#test.loc[:, 'onpromotion'].replace(True, 'T', inplace=True) # Replace True values with 1"
   ]
  },
  {
   "cell_type": "code",
   "execution_count": 53,
   "metadata": {},
   "outputs": [],
   "source": [
    "#test.loc[:, 'onpromotion'].replace(False, 'F', inplace=True) # Replace False values with 0"
   ]
  },
  {
   "cell_type": "markdown",
   "metadata": {},
   "source": [
    "Check to see if the changes occurred as expected."
   ]
  },
  {
   "cell_type": "code",
   "execution_count": 54,
   "metadata": {},
   "outputs": [
    {
     "data": {
      "text/html": [
       "<div>\n",
       "<style scoped>\n",
       "    .dataframe tbody tr th:only-of-type {\n",
       "        vertical-align: middle;\n",
       "    }\n",
       "\n",
       "    .dataframe tbody tr th {\n",
       "        vertical-align: top;\n",
       "    }\n",
       "\n",
       "    .dataframe thead th {\n",
       "        text-align: right;\n",
       "    }\n",
       "</style>\n",
       "<table border=\"1\" class=\"dataframe\">\n",
       "  <thead>\n",
       "    <tr style=\"text-align: right;\">\n",
       "      <th></th>\n",
       "      <th>date</th>\n",
       "      <th>item_nbr</th>\n",
       "      <th>store_nbr</th>\n",
       "      <th>unit_sales</th>\n",
       "      <th>onpromotion</th>\n",
       "    </tr>\n",
       "  </thead>\n",
       "  <tbody>\n",
       "    <tr>\n",
       "      <th>0</th>\n",
       "      <td>2013-01-01</td>\n",
       "      <td>108786</td>\n",
       "      <td>25</td>\n",
       "      <td>3.0</td>\n",
       "      <td>Null</td>\n",
       "    </tr>\n",
       "    <tr>\n",
       "      <th>1</th>\n",
       "      <td>2013-01-01</td>\n",
       "      <td>108786</td>\n",
       "      <td>1</td>\n",
       "      <td>0.0</td>\n",
       "      <td>Null</td>\n",
       "    </tr>\n",
       "    <tr>\n",
       "      <th>2</th>\n",
       "      <td>2013-01-01</td>\n",
       "      <td>108786</td>\n",
       "      <td>2</td>\n",
       "      <td>0.0</td>\n",
       "      <td>Null</td>\n",
       "    </tr>\n",
       "    <tr>\n",
       "      <th>3</th>\n",
       "      <td>2013-01-01</td>\n",
       "      <td>108786</td>\n",
       "      <td>3</td>\n",
       "      <td>0.0</td>\n",
       "      <td>Null</td>\n",
       "    </tr>\n",
       "    <tr>\n",
       "      <th>4</th>\n",
       "      <td>2013-01-01</td>\n",
       "      <td>108786</td>\n",
       "      <td>4</td>\n",
       "      <td>0.0</td>\n",
       "      <td>Null</td>\n",
       "    </tr>\n",
       "  </tbody>\n",
       "</table>\n",
       "</div>"
      ],
      "text/plain": [
       "        date  item_nbr  store_nbr  unit_sales onpromotion\n",
       "0 2013-01-01    108786         25         3.0        Null\n",
       "1 2013-01-01    108786          1         0.0        Null\n",
       "2 2013-01-01    108786          2         0.0        Null\n",
       "3 2013-01-01    108786          3         0.0        Null\n",
       "4 2013-01-01    108786          4         0.0        Null"
      ]
     },
     "execution_count": 54,
     "metadata": {},
     "output_type": "execute_result"
    }
   ],
   "source": [
    "train.head()"
   ]
  },
  {
   "cell_type": "code",
   "execution_count": 55,
   "metadata": {},
   "outputs": [
    {
     "data": {
      "text/html": [
       "<div>\n",
       "<style scoped>\n",
       "    .dataframe tbody tr th:only-of-type {\n",
       "        vertical-align: middle;\n",
       "    }\n",
       "\n",
       "    .dataframe tbody tr th {\n",
       "        vertical-align: top;\n",
       "    }\n",
       "\n",
       "    .dataframe thead th {\n",
       "        text-align: right;\n",
       "    }\n",
       "</style>\n",
       "<table border=\"1\" class=\"dataframe\">\n",
       "  <thead>\n",
       "    <tr style=\"text-align: right;\">\n",
       "      <th></th>\n",
       "      <th>id</th>\n",
       "      <th>date</th>\n",
       "      <th>store_nbr</th>\n",
       "      <th>item_nbr</th>\n",
       "      <th>onpromotion</th>\n",
       "    </tr>\n",
       "  </thead>\n",
       "  <tbody>\n",
       "    <tr>\n",
       "      <th>0</th>\n",
       "      <td>125497040</td>\n",
       "      <td>2017-08-16</td>\n",
       "      <td>1</td>\n",
       "      <td>96995</td>\n",
       "      <td>F</td>\n",
       "    </tr>\n",
       "    <tr>\n",
       "      <th>1</th>\n",
       "      <td>125497041</td>\n",
       "      <td>2017-08-16</td>\n",
       "      <td>1</td>\n",
       "      <td>99197</td>\n",
       "      <td>F</td>\n",
       "    </tr>\n",
       "    <tr>\n",
       "      <th>2</th>\n",
       "      <td>125497042</td>\n",
       "      <td>2017-08-16</td>\n",
       "      <td>1</td>\n",
       "      <td>103501</td>\n",
       "      <td>F</td>\n",
       "    </tr>\n",
       "    <tr>\n",
       "      <th>3</th>\n",
       "      <td>125497043</td>\n",
       "      <td>2017-08-16</td>\n",
       "      <td>1</td>\n",
       "      <td>103520</td>\n",
       "      <td>F</td>\n",
       "    </tr>\n",
       "    <tr>\n",
       "      <th>4</th>\n",
       "      <td>125497044</td>\n",
       "      <td>2017-08-16</td>\n",
       "      <td>1</td>\n",
       "      <td>103665</td>\n",
       "      <td>F</td>\n",
       "    </tr>\n",
       "  </tbody>\n",
       "</table>\n",
       "</div>"
      ],
      "text/plain": [
       "          id       date  store_nbr  item_nbr onpromotion\n",
       "0  125497040 2017-08-16          1     96995           F\n",
       "1  125497041 2017-08-16          1     99197           F\n",
       "2  125497042 2017-08-16          1    103501           F\n",
       "3  125497043 2017-08-16          1    103520           F\n",
       "4  125497044 2017-08-16          1    103665           F"
      ]
     },
     "execution_count": 55,
     "metadata": {},
     "output_type": "execute_result"
    }
   ],
   "source": [
    "test.head()"
   ]
  },
  {
   "cell_type": "markdown",
   "metadata": {},
   "source": [
    "Success"
   ]
  },
  {
   "cell_type": "markdown",
   "metadata": {},
   "source": [
    "The second column that contains null values is the dcoilwtico in the oil file. It will probably be best to interpolate the missing values in some way. To start, I looked at the rows that are null. It appears there are only about 43 dates out of 1218 that are missing values. I will go ahead and simply backfill the oil prices. "
   ]
  },
  {
   "cell_type": "code",
   "execution_count": 80,
   "metadata": {},
   "outputs": [
    {
     "name": "stdout",
     "output_type": "stream",
     "text": [
      "<class 'pandas.core.frame.DataFrame'>\n",
      "RangeIndex: 1218 entries, 0 to 1217\n",
      "Data columns (total 2 columns):\n",
      "date          1218 non-null datetime64[ns]\n",
      "dcoilwtico    1175 non-null float64\n",
      "dtypes: datetime64[ns](1), float64(1)\n",
      "memory usage: 19.1 KB\n"
     ]
    }
   ],
   "source": [
    "oil.info()"
   ]
  },
  {
   "cell_type": "code",
   "execution_count": 81,
   "metadata": {},
   "outputs": [],
   "source": [
    "# Replace NaN values using backward fill to cover first date \n",
    "oil['dcoilwtico'].fillna(method='bfill', inplace=True)"
   ]
  },
  {
   "cell_type": "code",
   "execution_count": 82,
   "metadata": {},
   "outputs": [
    {
     "name": "stdout",
     "output_type": "stream",
     "text": [
      "<class 'pandas.core.frame.DataFrame'>\n",
      "RangeIndex: 1218 entries, 0 to 1217\n",
      "Data columns (total 2 columns):\n",
      "date          1218 non-null datetime64[ns]\n",
      "dcoilwtico    1218 non-null float64\n",
      "dtypes: datetime64[ns](1), float64(1)\n",
      "memory usage: 19.1 KB\n"
     ]
    }
   ],
   "source": [
    "oil.info()"
   ]
  },
  {
   "cell_type": "markdown",
   "metadata": {},
   "source": [
    "No more null values in the oil price column."
   ]
  },
  {
   "cell_type": "markdown",
   "metadata": {},
   "source": [
    "# Add Day of Week and Day of Year"
   ]
  },
  {
   "cell_type": "markdown",
   "metadata": {},
   "source": [
    "I came across a very clever idea to include the day of the week and day of the year as separate columns in the training data. This way our solution could find patterns regarding the day of the week, which probably plays a huge role in sales. It's expected that sales increase on the weekends. Special thanks to Kevin Song: \n",
    "http://kevincsong.com/Kaggle-Pt.1-Favorita-Grocery-Sales-Prediction-Data-Engineering/"
   ]
  },
  {
   "cell_type": "code",
   "execution_count": 83,
   "metadata": {},
   "outputs": [],
   "source": [
    "# Add 'dow' and 'doy'\n",
    "train['dow'] = train['date'].dt.dayofweek # adding day of week as a feature\n",
    "\n",
    "test['dow'] = test['date'].dt.dayofweek # adding day of week as a feature"
   ]
  },
  {
   "cell_type": "code",
   "execution_count": 85,
   "metadata": {},
   "outputs": [],
   "source": [
    "train = pd.get_dummies(train, columns=['dow', 'onpromotion'], drop_first=True)"
   ]
  },
  {
   "cell_type": "code",
   "execution_count": 91,
   "metadata": {},
   "outputs": [],
   "source": [
    "test = pd.get_dummies(test, columns=['dow', 'onpromotion'], drop_first=True)"
   ]
  },
  {
   "cell_type": "markdown",
   "metadata": {},
   "source": [
    "Because the day of the week is a categorical variable, we may improve our learning algorithm's results if we use categorical encoding. "
   ]
  },
  {
   "cell_type": "markdown",
   "metadata": {},
   "source": [
    "# Merge the Data into a Single DataFrame"
   ]
  },
  {
   "cell_type": "code",
   "execution_count": 93,
   "metadata": {},
   "outputs": [
    {
     "data": {
      "text/html": [
       "<div>\n",
       "<style scoped>\n",
       "    .dataframe tbody tr th:only-of-type {\n",
       "        vertical-align: middle;\n",
       "    }\n",
       "\n",
       "    .dataframe tbody tr th {\n",
       "        vertical-align: top;\n",
       "    }\n",
       "\n",
       "    .dataframe thead th {\n",
       "        text-align: right;\n",
       "    }\n",
       "</style>\n",
       "<table border=\"1\" class=\"dataframe\">\n",
       "  <thead>\n",
       "    <tr style=\"text-align: right;\">\n",
       "      <th></th>\n",
       "      <th>date</th>\n",
       "      <th>item_nbr</th>\n",
       "      <th>store_nbr</th>\n",
       "      <th>unit_sales</th>\n",
       "      <th>dow_1</th>\n",
       "      <th>dow_2</th>\n",
       "      <th>dow_3</th>\n",
       "      <th>dow_4</th>\n",
       "      <th>dow_5</th>\n",
       "      <th>dow_6</th>\n",
       "      <th>...</th>\n",
       "      <th>cluster</th>\n",
       "      <th>family</th>\n",
       "      <th>class</th>\n",
       "      <th>perishable</th>\n",
       "      <th>dcoilwtico</th>\n",
       "      <th>type_y</th>\n",
       "      <th>locale</th>\n",
       "      <th>locale_name</th>\n",
       "      <th>description</th>\n",
       "      <th>transferred</th>\n",
       "    </tr>\n",
       "  </thead>\n",
       "  <tbody>\n",
       "    <tr>\n",
       "      <th>0</th>\n",
       "      <td>2013-01-01</td>\n",
       "      <td>105575</td>\n",
       "      <td>25</td>\n",
       "      <td>2.0</td>\n",
       "      <td>1</td>\n",
       "      <td>0</td>\n",
       "      <td>0</td>\n",
       "      <td>0</td>\n",
       "      <td>0</td>\n",
       "      <td>0</td>\n",
       "      <td>...</td>\n",
       "      <td>1</td>\n",
       "      <td>GROCERY I</td>\n",
       "      <td>1045</td>\n",
       "      <td>0</td>\n",
       "      <td>NaN</td>\n",
       "      <td>Holiday</td>\n",
       "      <td>National</td>\n",
       "      <td>Ecuador</td>\n",
       "      <td>Primer dia del ano</td>\n",
       "      <td>False</td>\n",
       "    </tr>\n",
       "    <tr>\n",
       "      <th>1</th>\n",
       "      <td>2013-01-01</td>\n",
       "      <td>105575</td>\n",
       "      <td>1</td>\n",
       "      <td>0.0</td>\n",
       "      <td>1</td>\n",
       "      <td>0</td>\n",
       "      <td>0</td>\n",
       "      <td>0</td>\n",
       "      <td>0</td>\n",
       "      <td>0</td>\n",
       "      <td>...</td>\n",
       "      <td>13</td>\n",
       "      <td>GROCERY I</td>\n",
       "      <td>1045</td>\n",
       "      <td>0</td>\n",
       "      <td>NaN</td>\n",
       "      <td>Holiday</td>\n",
       "      <td>National</td>\n",
       "      <td>Ecuador</td>\n",
       "      <td>Primer dia del ano</td>\n",
       "      <td>False</td>\n",
       "    </tr>\n",
       "    <tr>\n",
       "      <th>2</th>\n",
       "      <td>2013-01-01</td>\n",
       "      <td>105575</td>\n",
       "      <td>2</td>\n",
       "      <td>0.0</td>\n",
       "      <td>1</td>\n",
       "      <td>0</td>\n",
       "      <td>0</td>\n",
       "      <td>0</td>\n",
       "      <td>0</td>\n",
       "      <td>0</td>\n",
       "      <td>...</td>\n",
       "      <td>13</td>\n",
       "      <td>GROCERY I</td>\n",
       "      <td>1045</td>\n",
       "      <td>0</td>\n",
       "      <td>NaN</td>\n",
       "      <td>Holiday</td>\n",
       "      <td>National</td>\n",
       "      <td>Ecuador</td>\n",
       "      <td>Primer dia del ano</td>\n",
       "      <td>False</td>\n",
       "    </tr>\n",
       "    <tr>\n",
       "      <th>3</th>\n",
       "      <td>2013-01-01</td>\n",
       "      <td>105575</td>\n",
       "      <td>3</td>\n",
       "      <td>0.0</td>\n",
       "      <td>1</td>\n",
       "      <td>0</td>\n",
       "      <td>0</td>\n",
       "      <td>0</td>\n",
       "      <td>0</td>\n",
       "      <td>0</td>\n",
       "      <td>...</td>\n",
       "      <td>8</td>\n",
       "      <td>GROCERY I</td>\n",
       "      <td>1045</td>\n",
       "      <td>0</td>\n",
       "      <td>NaN</td>\n",
       "      <td>Holiday</td>\n",
       "      <td>National</td>\n",
       "      <td>Ecuador</td>\n",
       "      <td>Primer dia del ano</td>\n",
       "      <td>False</td>\n",
       "    </tr>\n",
       "    <tr>\n",
       "      <th>4</th>\n",
       "      <td>2013-01-01</td>\n",
       "      <td>105575</td>\n",
       "      <td>4</td>\n",
       "      <td>0.0</td>\n",
       "      <td>1</td>\n",
       "      <td>0</td>\n",
       "      <td>0</td>\n",
       "      <td>0</td>\n",
       "      <td>0</td>\n",
       "      <td>0</td>\n",
       "      <td>...</td>\n",
       "      <td>9</td>\n",
       "      <td>GROCERY I</td>\n",
       "      <td>1045</td>\n",
       "      <td>0</td>\n",
       "      <td>NaN</td>\n",
       "      <td>Holiday</td>\n",
       "      <td>National</td>\n",
       "      <td>Ecuador</td>\n",
       "      <td>Primer dia del ano</td>\n",
       "      <td>False</td>\n",
       "    </tr>\n",
       "  </tbody>\n",
       "</table>\n",
       "<p>5 rows × 24 columns</p>\n",
       "</div>"
      ],
      "text/plain": [
       "        date  item_nbr  store_nbr  unit_sales  dow_1  dow_2  dow_3  dow_4  \\\n",
       "0 2013-01-01    105575         25         2.0      1      0      0      0   \n",
       "1 2013-01-01    105575          1         0.0      1      0      0      0   \n",
       "2 2013-01-01    105575          2         0.0      1      0      0      0   \n",
       "3 2013-01-01    105575          3         0.0      1      0      0      0   \n",
       "4 2013-01-01    105575          4         0.0      1      0      0      0   \n",
       "\n",
       "   dow_5  dow_6     ...      cluster     family class perishable  dcoilwtico  \\\n",
       "0      0      0     ...            1  GROCERY I  1045          0         NaN   \n",
       "1      0      0     ...           13  GROCERY I  1045          0         NaN   \n",
       "2      0      0     ...           13  GROCERY I  1045          0         NaN   \n",
       "3      0      0     ...            8  GROCERY I  1045          0         NaN   \n",
       "4      0      0     ...            9  GROCERY I  1045          0         NaN   \n",
       "\n",
       "    type_y    locale  locale_name         description transferred  \n",
       "0  Holiday  National      Ecuador  Primer dia del ano       False  \n",
       "1  Holiday  National      Ecuador  Primer dia del ano       False  \n",
       "2  Holiday  National      Ecuador  Primer dia del ano       False  \n",
       "3  Holiday  National      Ecuador  Primer dia del ano       False  \n",
       "4  Holiday  National      Ecuador  Primer dia del ano       False  \n",
       "\n",
       "[5 rows x 24 columns]"
      ]
     },
     "execution_count": 93,
     "metadata": {},
     "output_type": "execute_result"
    }
   ],
   "source": [
    "train_merged = pd.merge(train, stores, on='store_nbr', how='left')\n",
    "train_merged = pd.merge(train_merged, items, on='item_nbr', how='left')\n",
    "train_merged = pd.merge(train_merged, oil, on='date', how='left')\n",
    "train_merged = pd.merge(train_merged, holiday_events, on='date', how='left')\n",
    "\n",
    "train_merged.head()"
   ]
  },
  {
   "cell_type": "code",
   "execution_count": 94,
   "metadata": {},
   "outputs": [
    {
     "name": "stdout",
     "output_type": "stream",
     "text": [
      "date False\n",
      "item_nbr False\n",
      "store_nbr False\n",
      "unit_sales False\n",
      "dow_1 False\n",
      "dow_2 False\n",
      "dow_3 False\n",
      "dow_4 False\n",
      "dow_5 False\n",
      "dow_6 False\n",
      "onpromotion_True False\n",
      "city False\n",
      "state False\n",
      "type_x False\n",
      "cluster False\n",
      "family False\n",
      "class False\n",
      "perishable False\n",
      "dcoilwtico True\n",
      "type_y True\n",
      "locale True\n",
      "locale_name True\n",
      "description True\n",
      "transferred True\n"
     ]
    }
   ],
   "source": [
    "for i in train_merged.columns:\n",
    "    print(i, train_merged[i].isnull().any())"
   ]
  },
  {
   "cell_type": "markdown",
   "metadata": {},
   "source": [
    "One thing that sticks out is that the oil price is NaN whenever the day of the week is 5 or 6. This means that the oil price isn't tracked on the weekends. This makes sense and it will probably be sufficient to forwardfill using Friday oil prices."
   ]
  },
  {
   "cell_type": "code",
   "execution_count": 95,
   "metadata": {},
   "outputs": [],
   "source": [
    "# Replace NaN values using forward fill to cover weekend dates using Friday's oil prices \n",
    "train_merged['dcoilwtico'].fillna(method='ffill', inplace=True)"
   ]
  },
  {
   "cell_type": "code",
   "execution_count": null,
   "metadata": {},
   "outputs": [],
   "source": [
    "train_merged.to_csv('Data\\MergedTrainData.csv')"
   ]
  },
  {
   "cell_type": "markdown",
   "metadata": {},
   "source": [
    "# Sampling a Specific Item"
   ]
  },
  {
   "cell_type": "markdown",
   "metadata": {},
   "source": [
    "Just as a sanity check, I thought it would be a good idea to sample a particular item at a particular location to see what the data looked like. "
   ]
  },
  {
   "cell_type": "code",
   "execution_count": 94,
   "metadata": {},
   "outputs": [],
   "source": [
    "PN119024 = train_merged[train_merged['item_nbr'] == 108952]"
   ]
  },
  {
   "cell_type": "code",
   "execution_count": 95,
   "metadata": {},
   "outputs": [],
   "source": [
    "PN119024 = PN119024[PN119024['store_nbr'] == 25]"
   ]
  },
  {
   "cell_type": "code",
   "execution_count": 99,
   "metadata": {},
   "outputs": [],
   "source": [
    "PN119024 = PN119024[PN119024['unit_sales'] > 12]"
   ]
  },
  {
   "cell_type": "code",
   "execution_count": 102,
   "metadata": {},
   "outputs": [
    {
     "data": {
      "text/html": [
       "<div>\n",
       "<style scoped>\n",
       "    .dataframe tbody tr th:only-of-type {\n",
       "        vertical-align: middle;\n",
       "    }\n",
       "\n",
       "    .dataframe tbody tr th {\n",
       "        vertical-align: top;\n",
       "    }\n",
       "\n",
       "    .dataframe thead th {\n",
       "        text-align: right;\n",
       "    }\n",
       "</style>\n",
       "<table border=\"1\" class=\"dataframe\">\n",
       "  <thead>\n",
       "    <tr style=\"text-align: right;\">\n",
       "      <th></th>\n",
       "      <th>date</th>\n",
       "      <th>item_nbr</th>\n",
       "      <th>store_nbr</th>\n",
       "      <th>id</th>\n",
       "      <th>unit_sales</th>\n",
       "      <th>onpromotion</th>\n",
       "      <th>dow</th>\n",
       "      <th>doy</th>\n",
       "      <th>city</th>\n",
       "      <th>state</th>\n",
       "      <th>...</th>\n",
       "      <th>cluster</th>\n",
       "      <th>family</th>\n",
       "      <th>class</th>\n",
       "      <th>perishable</th>\n",
       "      <th>dcoilwtico</th>\n",
       "      <th>type_y</th>\n",
       "      <th>locale</th>\n",
       "      <th>locale_name</th>\n",
       "      <th>description</th>\n",
       "      <th>transferred</th>\n",
       "    </tr>\n",
       "  </thead>\n",
       "  <tbody>\n",
       "    <tr>\n",
       "      <th>7155648</th>\n",
       "      <td>2014-10-10</td>\n",
       "      <td>108952</td>\n",
       "      <td>25</td>\n",
       "      <td>32740513.0</td>\n",
       "      <td>15.0</td>\n",
       "      <td>1</td>\n",
       "      <td>4</td>\n",
       "      <td>283</td>\n",
       "      <td>Salinas</td>\n",
       "      <td>Santa Elena</td>\n",
       "      <td>...</td>\n",
       "      <td>1</td>\n",
       "      <td>CLEANING</td>\n",
       "      <td>3024</td>\n",
       "      <td>0</td>\n",
       "      <td>85.87</td>\n",
       "      <td>Transfer</td>\n",
       "      <td>National</td>\n",
       "      <td>Ecuador</td>\n",
       "      <td>Traslado Independencia de Guayaquil</td>\n",
       "      <td>False</td>\n",
       "    </tr>\n",
       "    <tr>\n",
       "      <th>8006472</th>\n",
       "      <td>2014-12-26</td>\n",
       "      <td>108952</td>\n",
       "      <td>25</td>\n",
       "      <td>38176877.0</td>\n",
       "      <td>27.0</td>\n",
       "      <td>0</td>\n",
       "      <td>4</td>\n",
       "      <td>360</td>\n",
       "      <td>Salinas</td>\n",
       "      <td>Santa Elena</td>\n",
       "      <td>...</td>\n",
       "      <td>1</td>\n",
       "      <td>CLEANING</td>\n",
       "      <td>3024</td>\n",
       "      <td>0</td>\n",
       "      <td>54.59</td>\n",
       "      <td>Bridge</td>\n",
       "      <td>National</td>\n",
       "      <td>Ecuador</td>\n",
       "      <td>Puente Navidad</td>\n",
       "      <td>False</td>\n",
       "    </tr>\n",
       "    <tr>\n",
       "      <th>8006473</th>\n",
       "      <td>2014-12-26</td>\n",
       "      <td>108952</td>\n",
       "      <td>25</td>\n",
       "      <td>38176877.0</td>\n",
       "      <td>27.0</td>\n",
       "      <td>0</td>\n",
       "      <td>4</td>\n",
       "      <td>360</td>\n",
       "      <td>Salinas</td>\n",
       "      <td>Santa Elena</td>\n",
       "      <td>...</td>\n",
       "      <td>1</td>\n",
       "      <td>CLEANING</td>\n",
       "      <td>3024</td>\n",
       "      <td>0</td>\n",
       "      <td>54.59</td>\n",
       "      <td>Additional</td>\n",
       "      <td>National</td>\n",
       "      <td>Ecuador</td>\n",
       "      <td>Navidad+1</td>\n",
       "      <td>False</td>\n",
       "    </tr>\n",
       "    <tr>\n",
       "      <th>8028288</th>\n",
       "      <td>2014-12-27</td>\n",
       "      <td>108952</td>\n",
       "      <td>25</td>\n",
       "      <td>38252179.0</td>\n",
       "      <td>17.0</td>\n",
       "      <td>0</td>\n",
       "      <td>5</td>\n",
       "      <td>361</td>\n",
       "      <td>Salinas</td>\n",
       "      <td>Santa Elena</td>\n",
       "      <td>...</td>\n",
       "      <td>1</td>\n",
       "      <td>CLEANING</td>\n",
       "      <td>3024</td>\n",
       "      <td>0</td>\n",
       "      <td>54.59</td>\n",
       "      <td>NaN</td>\n",
       "      <td>NaN</td>\n",
       "      <td>NaN</td>\n",
       "      <td>NaN</td>\n",
       "      <td>NaN</td>\n",
       "    </tr>\n",
       "    <tr>\n",
       "      <th>8061012</th>\n",
       "      <td>2014-12-30</td>\n",
       "      <td>108952</td>\n",
       "      <td>25</td>\n",
       "      <td>38475580.0</td>\n",
       "      <td>17.0</td>\n",
       "      <td>0</td>\n",
       "      <td>1</td>\n",
       "      <td>364</td>\n",
       "      <td>Salinas</td>\n",
       "      <td>Santa Elena</td>\n",
       "      <td>...</td>\n",
       "      <td>1</td>\n",
       "      <td>CLEANING</td>\n",
       "      <td>3024</td>\n",
       "      <td>0</td>\n",
       "      <td>54.14</td>\n",
       "      <td>NaN</td>\n",
       "      <td>NaN</td>\n",
       "      <td>NaN</td>\n",
       "      <td>NaN</td>\n",
       "      <td>NaN</td>\n",
       "    </tr>\n",
       "    <tr>\n",
       "      <th>8071920</th>\n",
       "      <td>2014-12-31</td>\n",
       "      <td>108952</td>\n",
       "      <td>25</td>\n",
       "      <td>38551149.0</td>\n",
       "      <td>20.0</td>\n",
       "      <td>0</td>\n",
       "      <td>2</td>\n",
       "      <td>365</td>\n",
       "      <td>Salinas</td>\n",
       "      <td>Santa Elena</td>\n",
       "      <td>...</td>\n",
       "      <td>1</td>\n",
       "      <td>CLEANING</td>\n",
       "      <td>3024</td>\n",
       "      <td>0</td>\n",
       "      <td>53.45</td>\n",
       "      <td>Additional</td>\n",
       "      <td>National</td>\n",
       "      <td>Ecuador</td>\n",
       "      <td>Primer dia del ano-1</td>\n",
       "      <td>False</td>\n",
       "    </tr>\n",
       "    <tr>\n",
       "      <th>8486424</th>\n",
       "      <td>2015-02-07</td>\n",
       "      <td>108952</td>\n",
       "      <td>25</td>\n",
       "      <td>40737781.0</td>\n",
       "      <td>14.0</td>\n",
       "      <td>0</td>\n",
       "      <td>5</td>\n",
       "      <td>38</td>\n",
       "      <td>Salinas</td>\n",
       "      <td>Santa Elena</td>\n",
       "      <td>...</td>\n",
       "      <td>1</td>\n",
       "      <td>CLEANING</td>\n",
       "      <td>3024</td>\n",
       "      <td>0</td>\n",
       "      <td>51.66</td>\n",
       "      <td>NaN</td>\n",
       "      <td>NaN</td>\n",
       "      <td>NaN</td>\n",
       "      <td>NaN</td>\n",
       "      <td>NaN</td>\n",
       "    </tr>\n",
       "    <tr>\n",
       "      <th>8573688</th>\n",
       "      <td>2015-02-15</td>\n",
       "      <td>108952</td>\n",
       "      <td>25</td>\n",
       "      <td>41216529.0</td>\n",
       "      <td>13.0</td>\n",
       "      <td>0</td>\n",
       "      <td>6</td>\n",
       "      <td>46</td>\n",
       "      <td>Salinas</td>\n",
       "      <td>Santa Elena</td>\n",
       "      <td>...</td>\n",
       "      <td>1</td>\n",
       "      <td>CLEANING</td>\n",
       "      <td>3024</td>\n",
       "      <td>0</td>\n",
       "      <td>52.66</td>\n",
       "      <td>NaN</td>\n",
       "      <td>NaN</td>\n",
       "      <td>NaN</td>\n",
       "      <td>NaN</td>\n",
       "      <td>NaN</td>\n",
       "    </tr>\n",
       "    <tr>\n",
       "      <th>10515312</th>\n",
       "      <td>2015-08-09</td>\n",
       "      <td>108952</td>\n",
       "      <td>25</td>\n",
       "      <td>53503089.0</td>\n",
       "      <td>15.0</td>\n",
       "      <td>0</td>\n",
       "      <td>6</td>\n",
       "      <td>221</td>\n",
       "      <td>Salinas</td>\n",
       "      <td>Santa Elena</td>\n",
       "      <td>...</td>\n",
       "      <td>1</td>\n",
       "      <td>CLEANING</td>\n",
       "      <td>3024</td>\n",
       "      <td>0</td>\n",
       "      <td>43.87</td>\n",
       "      <td>NaN</td>\n",
       "      <td>NaN</td>\n",
       "      <td>NaN</td>\n",
       "      <td>NaN</td>\n",
       "      <td>NaN</td>\n",
       "    </tr>\n",
       "    <tr>\n",
       "      <th>11420676</th>\n",
       "      <td>2015-10-31</td>\n",
       "      <td>108952</td>\n",
       "      <td>25</td>\n",
       "      <td>60765570.0</td>\n",
       "      <td>16.0</td>\n",
       "      <td>0</td>\n",
       "      <td>5</td>\n",
       "      <td>304</td>\n",
       "      <td>Salinas</td>\n",
       "      <td>Santa Elena</td>\n",
       "      <td>...</td>\n",
       "      <td>1</td>\n",
       "      <td>CLEANING</td>\n",
       "      <td>3024</td>\n",
       "      <td>0</td>\n",
       "      <td>46.60</td>\n",
       "      <td>NaN</td>\n",
       "      <td>NaN</td>\n",
       "      <td>NaN</td>\n",
       "      <td>NaN</td>\n",
       "      <td>NaN</td>\n",
       "    </tr>\n",
       "    <tr>\n",
       "      <th>12042432</th>\n",
       "      <td>2015-12-26</td>\n",
       "      <td>108952</td>\n",
       "      <td>25</td>\n",
       "      <td>65924125.0</td>\n",
       "      <td>13.0</td>\n",
       "      <td>0</td>\n",
       "      <td>5</td>\n",
       "      <td>360</td>\n",
       "      <td>Salinas</td>\n",
       "      <td>Santa Elena</td>\n",
       "      <td>...</td>\n",
       "      <td>1</td>\n",
       "      <td>CLEANING</td>\n",
       "      <td>3024</td>\n",
       "      <td>0</td>\n",
       "      <td>36.36</td>\n",
       "      <td>Additional</td>\n",
       "      <td>National</td>\n",
       "      <td>Ecuador</td>\n",
       "      <td>Navidad+1</td>\n",
       "      <td>False</td>\n",
       "    </tr>\n",
       "    <tr>\n",
       "      <th>12053340</th>\n",
       "      <td>2015-12-27</td>\n",
       "      <td>108952</td>\n",
       "      <td>25</td>\n",
       "      <td>66020419.0</td>\n",
       "      <td>13.0</td>\n",
       "      <td>0</td>\n",
       "      <td>6</td>\n",
       "      <td>361</td>\n",
       "      <td>Salinas</td>\n",
       "      <td>Santa Elena</td>\n",
       "      <td>...</td>\n",
       "      <td>1</td>\n",
       "      <td>CLEANING</td>\n",
       "      <td>3024</td>\n",
       "      <td>0</td>\n",
       "      <td>36.36</td>\n",
       "      <td>NaN</td>\n",
       "      <td>NaN</td>\n",
       "      <td>NaN</td>\n",
       "      <td>NaN</td>\n",
       "      <td>NaN</td>\n",
       "    </tr>\n",
       "    <tr>\n",
       "      <th>12064248</th>\n",
       "      <td>2015-12-28</td>\n",
       "      <td>108952</td>\n",
       "      <td>25</td>\n",
       "      <td>66115789.0</td>\n",
       "      <td>19.0</td>\n",
       "      <td>0</td>\n",
       "      <td>0</td>\n",
       "      <td>362</td>\n",
       "      <td>Salinas</td>\n",
       "      <td>Santa Elena</td>\n",
       "      <td>...</td>\n",
       "      <td>1</td>\n",
       "      <td>CLEANING</td>\n",
       "      <td>3024</td>\n",
       "      <td>0</td>\n",
       "      <td>36.36</td>\n",
       "      <td>NaN</td>\n",
       "      <td>NaN</td>\n",
       "      <td>NaN</td>\n",
       "      <td>NaN</td>\n",
       "      <td>NaN</td>\n",
       "    </tr>\n",
       "    <tr>\n",
       "      <th>12075156</th>\n",
       "      <td>2015-12-29</td>\n",
       "      <td>108952</td>\n",
       "      <td>25</td>\n",
       "      <td>66209937.0</td>\n",
       "      <td>27.0</td>\n",
       "      <td>0</td>\n",
       "      <td>1</td>\n",
       "      <td>363</td>\n",
       "      <td>Salinas</td>\n",
       "      <td>Santa Elena</td>\n",
       "      <td>...</td>\n",
       "      <td>1</td>\n",
       "      <td>CLEANING</td>\n",
       "      <td>3024</td>\n",
       "      <td>0</td>\n",
       "      <td>37.88</td>\n",
       "      <td>NaN</td>\n",
       "      <td>NaN</td>\n",
       "      <td>NaN</td>\n",
       "      <td>NaN</td>\n",
       "      <td>NaN</td>\n",
       "    </tr>\n",
       "    <tr>\n",
       "      <th>12086064</th>\n",
       "      <td>2015-12-30</td>\n",
       "      <td>108952</td>\n",
       "      <td>25</td>\n",
       "      <td>66307114.0</td>\n",
       "      <td>27.0</td>\n",
       "      <td>0</td>\n",
       "      <td>2</td>\n",
       "      <td>364</td>\n",
       "      <td>Salinas</td>\n",
       "      <td>Santa Elena</td>\n",
       "      <td>...</td>\n",
       "      <td>1</td>\n",
       "      <td>CLEANING</td>\n",
       "      <td>3024</td>\n",
       "      <td>0</td>\n",
       "      <td>36.59</td>\n",
       "      <td>NaN</td>\n",
       "      <td>NaN</td>\n",
       "      <td>NaN</td>\n",
       "      <td>NaN</td>\n",
       "      <td>NaN</td>\n",
       "    </tr>\n",
       "    <tr>\n",
       "      <th>12096972</th>\n",
       "      <td>2015-12-31</td>\n",
       "      <td>108952</td>\n",
       "      <td>25</td>\n",
       "      <td>66403978.0</td>\n",
       "      <td>19.0</td>\n",
       "      <td>0</td>\n",
       "      <td>3</td>\n",
       "      <td>365</td>\n",
       "      <td>Salinas</td>\n",
       "      <td>Santa Elena</td>\n",
       "      <td>...</td>\n",
       "      <td>1</td>\n",
       "      <td>CLEANING</td>\n",
       "      <td>3024</td>\n",
       "      <td>0</td>\n",
       "      <td>37.13</td>\n",
       "      <td>Additional</td>\n",
       "      <td>National</td>\n",
       "      <td>Ecuador</td>\n",
       "      <td>Primer dia del ano-1</td>\n",
       "      <td>False</td>\n",
       "    </tr>\n",
       "    <tr>\n",
       "      <th>12500568</th>\n",
       "      <td>2016-02-06</td>\n",
       "      <td>108952</td>\n",
       "      <td>25</td>\n",
       "      <td>69803103.0</td>\n",
       "      <td>23.0</td>\n",
       "      <td>0</td>\n",
       "      <td>5</td>\n",
       "      <td>37</td>\n",
       "      <td>Salinas</td>\n",
       "      <td>Santa Elena</td>\n",
       "      <td>...</td>\n",
       "      <td>1</td>\n",
       "      <td>CLEANING</td>\n",
       "      <td>3024</td>\n",
       "      <td>0</td>\n",
       "      <td>30.86</td>\n",
       "      <td>NaN</td>\n",
       "      <td>NaN</td>\n",
       "      <td>NaN</td>\n",
       "      <td>NaN</td>\n",
       "      <td>NaN</td>\n",
       "    </tr>\n",
       "    <tr>\n",
       "      <th>12511476</th>\n",
       "      <td>2016-02-07</td>\n",
       "      <td>108952</td>\n",
       "      <td>25</td>\n",
       "      <td>69899512.0</td>\n",
       "      <td>18.0</td>\n",
       "      <td>0</td>\n",
       "      <td>6</td>\n",
       "      <td>38</td>\n",
       "      <td>Salinas</td>\n",
       "      <td>Santa Elena</td>\n",
       "      <td>...</td>\n",
       "      <td>1</td>\n",
       "      <td>CLEANING</td>\n",
       "      <td>3024</td>\n",
       "      <td>0</td>\n",
       "      <td>30.86</td>\n",
       "      <td>NaN</td>\n",
       "      <td>NaN</td>\n",
       "      <td>NaN</td>\n",
       "      <td>NaN</td>\n",
       "      <td>NaN</td>\n",
       "    </tr>\n",
       "    <tr>\n",
       "      <th>13765896</th>\n",
       "      <td>2016-05-27</td>\n",
       "      <td>108952</td>\n",
       "      <td>25</td>\n",
       "      <td>80387247.0</td>\n",
       "      <td>20.0</td>\n",
       "      <td>0</td>\n",
       "      <td>4</td>\n",
       "      <td>148</td>\n",
       "      <td>Salinas</td>\n",
       "      <td>Santa Elena</td>\n",
       "      <td>...</td>\n",
       "      <td>1</td>\n",
       "      <td>CLEANING</td>\n",
       "      <td>3024</td>\n",
       "      <td>0</td>\n",
       "      <td>49.36</td>\n",
       "      <td>Transfer</td>\n",
       "      <td>National</td>\n",
       "      <td>Ecuador</td>\n",
       "      <td>Traslado Batalla de Pichincha</td>\n",
       "      <td>False</td>\n",
       "    </tr>\n",
       "    <tr>\n",
       "      <th>15554808</th>\n",
       "      <td>2016-11-03</td>\n",
       "      <td>108952</td>\n",
       "      <td>25</td>\n",
       "      <td>95793972.0</td>\n",
       "      <td>13.0</td>\n",
       "      <td>0</td>\n",
       "      <td>3</td>\n",
       "      <td>308</td>\n",
       "      <td>Salinas</td>\n",
       "      <td>Santa Elena</td>\n",
       "      <td>...</td>\n",
       "      <td>1</td>\n",
       "      <td>CLEANING</td>\n",
       "      <td>3024</td>\n",
       "      <td>0</td>\n",
       "      <td>44.66</td>\n",
       "      <td>Holiday</td>\n",
       "      <td>National</td>\n",
       "      <td>Ecuador</td>\n",
       "      <td>Independencia de Cuenca</td>\n",
       "      <td>False</td>\n",
       "    </tr>\n",
       "    <tr>\n",
       "      <th>16154748</th>\n",
       "      <td>2016-12-26</td>\n",
       "      <td>108952</td>\n",
       "      <td>25</td>\n",
       "      <td>101089577.0</td>\n",
       "      <td>22.0</td>\n",
       "      <td>0</td>\n",
       "      <td>0</td>\n",
       "      <td>361</td>\n",
       "      <td>Salinas</td>\n",
       "      <td>Santa Elena</td>\n",
       "      <td>...</td>\n",
       "      <td>1</td>\n",
       "      <td>CLEANING</td>\n",
       "      <td>3024</td>\n",
       "      <td>0</td>\n",
       "      <td>52.82</td>\n",
       "      <td>Additional</td>\n",
       "      <td>National</td>\n",
       "      <td>Ecuador</td>\n",
       "      <td>Navidad+1</td>\n",
       "      <td>False</td>\n",
       "    </tr>\n",
       "    <tr>\n",
       "      <th>16165656</th>\n",
       "      <td>2016-12-27</td>\n",
       "      <td>108952</td>\n",
       "      <td>25</td>\n",
       "      <td>101197030.0</td>\n",
       "      <td>13.0</td>\n",
       "      <td>0</td>\n",
       "      <td>1</td>\n",
       "      <td>362</td>\n",
       "      <td>Salinas</td>\n",
       "      <td>Santa Elena</td>\n",
       "      <td>...</td>\n",
       "      <td>1</td>\n",
       "      <td>CLEANING</td>\n",
       "      <td>3024</td>\n",
       "      <td>0</td>\n",
       "      <td>52.82</td>\n",
       "      <td>NaN</td>\n",
       "      <td>NaN</td>\n",
       "      <td>NaN</td>\n",
       "      <td>NaN</td>\n",
       "      <td>NaN</td>\n",
       "    </tr>\n",
       "    <tr>\n",
       "      <th>16176564</th>\n",
       "      <td>2016-12-28</td>\n",
       "      <td>108952</td>\n",
       "      <td>25</td>\n",
       "      <td>101301694.0</td>\n",
       "      <td>19.0</td>\n",
       "      <td>0</td>\n",
       "      <td>2</td>\n",
       "      <td>363</td>\n",
       "      <td>Salinas</td>\n",
       "      <td>Santa Elena</td>\n",
       "      <td>...</td>\n",
       "      <td>1</td>\n",
       "      <td>CLEANING</td>\n",
       "      <td>3024</td>\n",
       "      <td>0</td>\n",
       "      <td>54.01</td>\n",
       "      <td>NaN</td>\n",
       "      <td>NaN</td>\n",
       "      <td>NaN</td>\n",
       "      <td>NaN</td>\n",
       "      <td>NaN</td>\n",
       "    </tr>\n",
       "    <tr>\n",
       "      <th>16187472</th>\n",
       "      <td>2016-12-29</td>\n",
       "      <td>108952</td>\n",
       "      <td>25</td>\n",
       "      <td>101408061.0</td>\n",
       "      <td>18.0</td>\n",
       "      <td>0</td>\n",
       "      <td>3</td>\n",
       "      <td>364</td>\n",
       "      <td>Salinas</td>\n",
       "      <td>Santa Elena</td>\n",
       "      <td>...</td>\n",
       "      <td>1</td>\n",
       "      <td>CLEANING</td>\n",
       "      <td>3024</td>\n",
       "      <td>0</td>\n",
       "      <td>53.80</td>\n",
       "      <td>NaN</td>\n",
       "      <td>NaN</td>\n",
       "      <td>NaN</td>\n",
       "      <td>NaN</td>\n",
       "      <td>NaN</td>\n",
       "    </tr>\n",
       "  </tbody>\n",
       "</table>\n",
       "<p>24 rows × 21 columns</p>\n",
       "</div>"
      ],
      "text/plain": [
       "               date  item_nbr  store_nbr           id  unit_sales  \\\n",
       "7155648  2014-10-10    108952         25   32740513.0        15.0   \n",
       "8006472  2014-12-26    108952         25   38176877.0        27.0   \n",
       "8006473  2014-12-26    108952         25   38176877.0        27.0   \n",
       "8028288  2014-12-27    108952         25   38252179.0        17.0   \n",
       "8061012  2014-12-30    108952         25   38475580.0        17.0   \n",
       "8071920  2014-12-31    108952         25   38551149.0        20.0   \n",
       "8486424  2015-02-07    108952         25   40737781.0        14.0   \n",
       "8573688  2015-02-15    108952         25   41216529.0        13.0   \n",
       "10515312 2015-08-09    108952         25   53503089.0        15.0   \n",
       "11420676 2015-10-31    108952         25   60765570.0        16.0   \n",
       "12042432 2015-12-26    108952         25   65924125.0        13.0   \n",
       "12053340 2015-12-27    108952         25   66020419.0        13.0   \n",
       "12064248 2015-12-28    108952         25   66115789.0        19.0   \n",
       "12075156 2015-12-29    108952         25   66209937.0        27.0   \n",
       "12086064 2015-12-30    108952         25   66307114.0        27.0   \n",
       "12096972 2015-12-31    108952         25   66403978.0        19.0   \n",
       "12500568 2016-02-06    108952         25   69803103.0        23.0   \n",
       "12511476 2016-02-07    108952         25   69899512.0        18.0   \n",
       "13765896 2016-05-27    108952         25   80387247.0        20.0   \n",
       "15554808 2016-11-03    108952         25   95793972.0        13.0   \n",
       "16154748 2016-12-26    108952         25  101089577.0        22.0   \n",
       "16165656 2016-12-27    108952         25  101197030.0        13.0   \n",
       "16176564 2016-12-28    108952         25  101301694.0        19.0   \n",
       "16187472 2016-12-29    108952         25  101408061.0        18.0   \n",
       "\n",
       "          onpromotion  dow  doy     city        state     ...     cluster  \\\n",
       "7155648             1    4  283  Salinas  Santa Elena     ...           1   \n",
       "8006472             0    4  360  Salinas  Santa Elena     ...           1   \n",
       "8006473             0    4  360  Salinas  Santa Elena     ...           1   \n",
       "8028288             0    5  361  Salinas  Santa Elena     ...           1   \n",
       "8061012             0    1  364  Salinas  Santa Elena     ...           1   \n",
       "8071920             0    2  365  Salinas  Santa Elena     ...           1   \n",
       "8486424             0    5   38  Salinas  Santa Elena     ...           1   \n",
       "8573688             0    6   46  Salinas  Santa Elena     ...           1   \n",
       "10515312            0    6  221  Salinas  Santa Elena     ...           1   \n",
       "11420676            0    5  304  Salinas  Santa Elena     ...           1   \n",
       "12042432            0    5  360  Salinas  Santa Elena     ...           1   \n",
       "12053340            0    6  361  Salinas  Santa Elena     ...           1   \n",
       "12064248            0    0  362  Salinas  Santa Elena     ...           1   \n",
       "12075156            0    1  363  Salinas  Santa Elena     ...           1   \n",
       "12086064            0    2  364  Salinas  Santa Elena     ...           1   \n",
       "12096972            0    3  365  Salinas  Santa Elena     ...           1   \n",
       "12500568            0    5   37  Salinas  Santa Elena     ...           1   \n",
       "12511476            0    6   38  Salinas  Santa Elena     ...           1   \n",
       "13765896            0    4  148  Salinas  Santa Elena     ...           1   \n",
       "15554808            0    3  308  Salinas  Santa Elena     ...           1   \n",
       "16154748            0    0  361  Salinas  Santa Elena     ...           1   \n",
       "16165656            0    1  362  Salinas  Santa Elena     ...           1   \n",
       "16176564            0    2  363  Salinas  Santa Elena     ...           1   \n",
       "16187472            0    3  364  Salinas  Santa Elena     ...           1   \n",
       "\n",
       "            family class  perishable  dcoilwtico      type_y    locale  \\\n",
       "7155648   CLEANING  3024           0       85.87    Transfer  National   \n",
       "8006472   CLEANING  3024           0       54.59      Bridge  National   \n",
       "8006473   CLEANING  3024           0       54.59  Additional  National   \n",
       "8028288   CLEANING  3024           0       54.59         NaN       NaN   \n",
       "8061012   CLEANING  3024           0       54.14         NaN       NaN   \n",
       "8071920   CLEANING  3024           0       53.45  Additional  National   \n",
       "8486424   CLEANING  3024           0       51.66         NaN       NaN   \n",
       "8573688   CLEANING  3024           0       52.66         NaN       NaN   \n",
       "10515312  CLEANING  3024           0       43.87         NaN       NaN   \n",
       "11420676  CLEANING  3024           0       46.60         NaN       NaN   \n",
       "12042432  CLEANING  3024           0       36.36  Additional  National   \n",
       "12053340  CLEANING  3024           0       36.36         NaN       NaN   \n",
       "12064248  CLEANING  3024           0       36.36         NaN       NaN   \n",
       "12075156  CLEANING  3024           0       37.88         NaN       NaN   \n",
       "12086064  CLEANING  3024           0       36.59         NaN       NaN   \n",
       "12096972  CLEANING  3024           0       37.13  Additional  National   \n",
       "12500568  CLEANING  3024           0       30.86         NaN       NaN   \n",
       "12511476  CLEANING  3024           0       30.86         NaN       NaN   \n",
       "13765896  CLEANING  3024           0       49.36    Transfer  National   \n",
       "15554808  CLEANING  3024           0       44.66     Holiday  National   \n",
       "16154748  CLEANING  3024           0       52.82  Additional  National   \n",
       "16165656  CLEANING  3024           0       52.82         NaN       NaN   \n",
       "16176564  CLEANING  3024           0       54.01         NaN       NaN   \n",
       "16187472  CLEANING  3024           0       53.80         NaN       NaN   \n",
       "\n",
       "         locale_name                          description transferred  \n",
       "7155648      Ecuador  Traslado Independencia de Guayaquil       False  \n",
       "8006472      Ecuador                       Puente Navidad       False  \n",
       "8006473      Ecuador                            Navidad+1       False  \n",
       "8028288          NaN                                  NaN         NaN  \n",
       "8061012          NaN                                  NaN         NaN  \n",
       "8071920      Ecuador                 Primer dia del ano-1       False  \n",
       "8486424          NaN                                  NaN         NaN  \n",
       "8573688          NaN                                  NaN         NaN  \n",
       "10515312         NaN                                  NaN         NaN  \n",
       "11420676         NaN                                  NaN         NaN  \n",
       "12042432     Ecuador                            Navidad+1       False  \n",
       "12053340         NaN                                  NaN         NaN  \n",
       "12064248         NaN                                  NaN         NaN  \n",
       "12075156         NaN                                  NaN         NaN  \n",
       "12086064         NaN                                  NaN         NaN  \n",
       "12096972     Ecuador                 Primer dia del ano-1       False  \n",
       "12500568         NaN                                  NaN         NaN  \n",
       "12511476         NaN                                  NaN         NaN  \n",
       "13765896     Ecuador        Traslado Batalla de Pichincha       False  \n",
       "15554808     Ecuador              Independencia de Cuenca       False  \n",
       "16154748     Ecuador                            Navidad+1       False  \n",
       "16165656         NaN                                  NaN         NaN  \n",
       "16176564         NaN                                  NaN         NaN  \n",
       "16187472         NaN                                  NaN         NaN  \n",
       "\n",
       "[24 rows x 21 columns]"
      ]
     },
     "execution_count": 102,
     "metadata": {},
     "output_type": "execute_result"
    }
   ],
   "source": [
    "PN119024"
   ]
  },
  {
   "cell_type": "code",
   "execution_count": 97,
   "metadata": {},
   "outputs": [
    {
     "data": {
      "image/png": "[encoded data removed]",
      "text/plain": [
       "<Figure size 432x288 with 1 Axes>"
      ]
     },
     "metadata": {
      "needs_background": "light"
     },
     "output_type": "display_data"
    }
   ],
   "source": [
    "_ = sns.violinplot(y=\"unit_sales\", data=PN119024)"
   ]
  },
  {
   "cell_type": "code",
   "execution_count": null,
   "metadata": {},
   "outputs": [],
   "source": []
  }
 ],
 "metadata": {
  "kernelspec": {
   "display_name": "Python 3",
   "language": "python",
   "name": "python3"
  },
  "language_info": {
   "codemirror_mode": {
    "name": "ipython",
    "version": 3
   },
   "file_extension": ".py",
   "mimetype": "text/x-python",
   "name": "python",
   "nbconvert_exporter": "python",
   "pygments_lexer": "ipython3",
   "version": "3.7.1"
  }
 },
 "nbformat": 4,
 "nbformat_minor": 2
}
