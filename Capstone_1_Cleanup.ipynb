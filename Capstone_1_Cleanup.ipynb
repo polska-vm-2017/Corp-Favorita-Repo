{
 "cells": [
  {
   "cell_type": "code",
   "execution_count": 3,
   "metadata": {},
   "outputs": [],
   "source": [
    "# Importing the relevant libraries\n",
    "import IPython.display\n",
    "import json\n",
    "import pandas as pd\n",
    "import seaborn as sns\n",
    "#import squarify\n",
    "%matplotlib inline\n",
    "import random\n",
    "#import missingno as msno\n",
    "#import plotly.offline as py\n",
    "#py.init_notebook_mode(connected=True)\n",
    "#import plotly.graph_objs as go\n",
    "#import plotly.tools as tls\n",
    "import numpy as np\n",
    "from matplotlib import pyplot as plt\n",
    "\n",
    "# D3 modules\n",
    "from IPython.core.display import display, HTML, Javascript\n",
    "from string import Template# The data to load"
   ]
  },
  {
   "cell_type": "markdown",
   "metadata": {},
   "source": [
    "# Data Import"
   ]
  },
  {
   "cell_type": "markdown",
   "metadata": {},
   "source": [
    "Because the training data is so large (125 Million rows), we will begin by taking a random sample of the rows to have a valid representative sample. "
   ]
  },
  {
   "cell_type": "code",
   "execution_count": 5,
   "metadata": {},
   "outputs": [
    {
     "name": "stderr",
     "output_type": "stream",
     "text": [
      "<string>:2: DtypeWarning: Columns (5) have mixed types. Specify dtype option on import or set low_memory=False.\n"
     ]
    },
    {
     "name": "stdout",
     "output_type": "stream",
     "text": [
      "Wall time: 5min 26s\n"
     ]
    }
   ],
   "source": [
    "%%time\n",
    "\n",
    "f = \"Data/train.csv\"\n",
    "\n",
    "# Count the lines\n",
    "num_lines = sum(1 for l in open(f))\n",
    "\n",
    "# Sample size - in this case ~10%\n",
    "size = int(num_lines / 20)\n",
    "\n",
    "# The row indices to skip - make sure 0 is not included to keep the header!\n",
    "skip_idx = random.sample(range(1, num_lines), num_lines - size)\n",
    "\n",
    "# Read the data\n",
    "train = pd.read_csv(f, skiprows=skip_idx, parse_dates=['date'] )"
   ]
  },
  {
   "cell_type": "markdown",
   "metadata": {},
   "source": [
    "The remaining files load quickly. "
   ]
  },
  {
   "cell_type": "code",
   "execution_count": 52,
   "metadata": {},
   "outputs": [],
   "source": [
    "items = pd.read_csv(\"Data/items.csv\")\n",
    "holiday_events = pd.read_csv(\"Data/holidays_events.csv\",parse_dates=['date'])\n",
    "stores = pd.read_csv(\"Data/stores.csv\")\n",
    "oil = pd.read_csv(\"Data/oil.csv\",parse_dates=['date'])\n",
    "transactions = pd.read_csv(\"Data/transactions.csv\",parse_dates=['date'])\n",
    "test = pd.read_csv(\"Data/test.csv\",parse_dates=['date'])"
   ]
  },
  {
   "cell_type": "markdown",
   "metadata": {},
   "source": [
    "# Checking for Null Values"
   ]
  },
  {
   "cell_type": "markdown",
   "metadata": {},
   "source": [
    "A good first step is to see which columns in which dataframes contain null values. If these appear, we will need to deal with these in some way. "
   ]
  },
  {
   "cell_type": "code",
   "execution_count": 15,
   "metadata": {},
   "outputs": [
    {
     "name": "stdout",
     "output_type": "stream",
     "text": [
      "Nulls in train columns: ['id' 'date' 'store_nbr' 'item_nbr' 'unit_sales' 'onpromotion'] => [False False False False False  True]\n"
     ]
    }
   ],
   "source": [
    "print(\"Nulls in train columns: {0} => {1}\".format(train.columns.values, train.isnull().any().values))"
   ]
  },
  {
   "cell_type": "markdown",
   "metadata": {},
   "source": [
    "The onpromotion column of the train dataframe contains null values."
   ]
  },
  {
   "cell_type": "code",
   "execution_count": 17,
   "metadata": {},
   "outputs": [
    {
     "name": "stdout",
     "output_type": "stream",
     "text": [
      "Nulls in test columns: ['id' 'date' 'store_nbr' 'item_nbr' 'onpromotion'] => [False False False False False]\n"
     ]
    }
   ],
   "source": [
    "print(\"Nulls in test columns: {0} => {1}\".format(test.columns.values, test.isnull().any().values))"
   ]
  },
  {
   "cell_type": "code",
   "execution_count": 18,
   "metadata": {},
   "outputs": [
    {
     "name": "stdout",
     "output_type": "stream",
     "text": [
      "Nulls in items columns: ['item_nbr' 'family' 'class' 'perishable'] => [False False False False]\n"
     ]
    }
   ],
   "source": [
    "print(\"Nulls in items columns: {0} => {1}\".format(items.columns.values, items.isnull().any().values))"
   ]
  },
  {
   "cell_type": "code",
   "execution_count": 19,
   "metadata": {},
   "outputs": [
    {
     "name": "stdout",
     "output_type": "stream",
     "text": [
      "Nulls in holiday_events columns: ['date' 'type' 'locale' 'locale_name' 'description' 'transferred'] => [False False False False False False]\n"
     ]
    }
   ],
   "source": [
    "print(\"Nulls in holiday_events columns: {0} => {1}\".format(holiday_events.columns.values, holiday_events.isnull().any().values))"
   ]
  },
  {
   "cell_type": "code",
   "execution_count": 14,
   "metadata": {},
   "outputs": [
    {
     "name": "stdout",
     "output_type": "stream",
     "text": [
      "Nulls in stores columns: ['store_nbr' 'city' 'state' 'type' 'cluster'] => [False False False False False]\n"
     ]
    }
   ],
   "source": [
    "print(\"Nulls in stores columns: {0} => {1}\".format(stores.columns.values, stores.isnull().any().values))"
   ]
  },
  {
   "cell_type": "code",
   "execution_count": 20,
   "metadata": {},
   "outputs": [
    {
     "name": "stdout",
     "output_type": "stream",
     "text": [
      "Nulls in oil columns: ['date' 'dcoilwtico'] => [False  True]\n"
     ]
    }
   ],
   "source": [
    "print(\"Nulls in oil columns: {0} => {1}\".format(oil.columns.values, oil.isnull().any().values))"
   ]
  },
  {
   "cell_type": "code",
   "execution_count": 21,
   "metadata": {},
   "outputs": [
    {
     "name": "stdout",
     "output_type": "stream",
     "text": [
      "Nulls in transactions columns: ['date' 'store_nbr' 'transactions'] => [False False False]\n"
     ]
    }
   ],
   "source": [
    "print(\"Nulls in transactions columns: {0} => {1}\".format(transactions.columns.values, transactions.isnull().any().values))"
   ]
  },
  {
   "cell_type": "markdown",
   "metadata": {},
   "source": [
    "It looks like there are two columns that contain null values. One is the onpromotion column of the train data, and the other is the dcoilwtico column of the oil price data. "
   ]
  },
  {
   "cell_type": "markdown",
   "metadata": {},
   "source": [
    "# Dealing with Null Values"
   ]
  },
  {
   "cell_type": "markdown",
   "metadata": {},
   "source": [
    "The first column that contains null values is the onpromotion column of the train data. My initial thought was to simply change all the null values to false. However, this has the potential to mislead predictions. Instead, I followed the suggestion on the website provided to set missing values to 2, True to 1, and False to 0. "
   ]
  },
  {
   "cell_type": "markdown",
   "metadata": {},
   "source": [
    "Credit goes to: http://kevincsong.com/Kaggle-Pt.1-Favorita-Grocery-Sales-Prediction-Data-Engineering/"
   ]
  },
  {
   "cell_type": "code",
   "execution_count": 53,
   "metadata": {},
   "outputs": [],
   "source": [
    "train.loc[:, 'onpromotion'].fillna(2, inplace=True) # Replaces null values with 2"
   ]
  },
  {
   "cell_type": "code",
   "execution_count": 54,
   "metadata": {},
   "outputs": [],
   "source": [
    "train.loc[:, 'onpromotion'].replace(True, 1, inplace=True) # Replace True values with 1"
   ]
  },
  {
   "cell_type": "code",
   "execution_count": 55,
   "metadata": {},
   "outputs": [],
   "source": [
    "train.loc[:, 'onpromotion'].replace(False, 0, inplace=True) # Replace False values with 0"
   ]
  },
  {
   "cell_type": "markdown",
   "metadata": {},
   "source": [
    "It makes sense to make analogous changes in the test file."
   ]
  },
  {
   "cell_type": "code",
   "execution_count": 56,
   "metadata": {},
   "outputs": [],
   "source": [
    "test.loc[:, 'onpromotion'].fillna(2, inplace=True) # Replaces null values with 2"
   ]
  },
  {
   "cell_type": "code",
   "execution_count": 57,
   "metadata": {},
   "outputs": [],
   "source": [
    "test.loc[:, 'onpromotion'].replace(True, 1, inplace=True) # Replace True values with 1"
   ]
  },
  {
   "cell_type": "code",
   "execution_count": 58,
   "metadata": {},
   "outputs": [],
   "source": [
    "test.loc[:, 'onpromotion'].replace(False, 0, inplace=True) # Replace False values with 0"
   ]
  },
  {
   "cell_type": "markdown",
   "metadata": {},
   "source": [
    "Check to see if the changes occurred as expected."
   ]
  },
  {
   "cell_type": "code",
   "execution_count": 59,
   "metadata": {},
   "outputs": [
    {
     "data": {
      "text/html": [
       "<div>\n",
       "<style scoped>\n",
       "    .dataframe tbody tr th:only-of-type {\n",
       "        vertical-align: middle;\n",
       "    }\n",
       "\n",
       "    .dataframe tbody tr th {\n",
       "        vertical-align: top;\n",
       "    }\n",
       "\n",
       "    .dataframe thead th {\n",
       "        text-align: right;\n",
       "    }\n",
       "</style>\n",
       "<table border=\"1\" class=\"dataframe\">\n",
       "  <thead>\n",
       "    <tr style=\"text-align: right;\">\n",
       "      <th></th>\n",
       "      <th>id</th>\n",
       "      <th>date</th>\n",
       "      <th>store_nbr</th>\n",
       "      <th>item_nbr</th>\n",
       "      <th>unit_sales</th>\n",
       "      <th>onpromotion</th>\n",
       "      <th>dow</th>\n",
       "      <th>doy</th>\n",
       "    </tr>\n",
       "  </thead>\n",
       "  <tbody>\n",
       "    <tr>\n",
       "      <th>0</th>\n",
       "      <td>25</td>\n",
       "      <td>2013-01-01</td>\n",
       "      <td>25</td>\n",
       "      <td>129635</td>\n",
       "      <td>11.0</td>\n",
       "      <td>2</td>\n",
       "      <td>1</td>\n",
       "      <td>1</td>\n",
       "    </tr>\n",
       "    <tr>\n",
       "      <th>1</th>\n",
       "      <td>70</td>\n",
       "      <td>2013-01-01</td>\n",
       "      <td>25</td>\n",
       "      <td>222879</td>\n",
       "      <td>5.0</td>\n",
       "      <td>2</td>\n",
       "      <td>1</td>\n",
       "      <td>1</td>\n",
       "    </tr>\n",
       "    <tr>\n",
       "      <th>2</th>\n",
       "      <td>71</td>\n",
       "      <td>2013-01-01</td>\n",
       "      <td>25</td>\n",
       "      <td>223434</td>\n",
       "      <td>1.0</td>\n",
       "      <td>2</td>\n",
       "      <td>1</td>\n",
       "      <td>1</td>\n",
       "    </tr>\n",
       "    <tr>\n",
       "      <th>3</th>\n",
       "      <td>85</td>\n",
       "      <td>2013-01-01</td>\n",
       "      <td>25</td>\n",
       "      <td>261053</td>\n",
       "      <td>1.0</td>\n",
       "      <td>2</td>\n",
       "      <td>1</td>\n",
       "      <td>1</td>\n",
       "    </tr>\n",
       "    <tr>\n",
       "      <th>4</th>\n",
       "      <td>98</td>\n",
       "      <td>2013-01-01</td>\n",
       "      <td>25</td>\n",
       "      <td>273528</td>\n",
       "      <td>2.0</td>\n",
       "      <td>2</td>\n",
       "      <td>1</td>\n",
       "      <td>1</td>\n",
       "    </tr>\n",
       "  </tbody>\n",
       "</table>\n",
       "</div>"
      ],
      "text/plain": [
       "   id       date  store_nbr  item_nbr  unit_sales  onpromotion  dow  doy\n",
       "0  25 2013-01-01         25    129635        11.0            2    1    1\n",
       "1  70 2013-01-01         25    222879         5.0            2    1    1\n",
       "2  71 2013-01-01         25    223434         1.0            2    1    1\n",
       "3  85 2013-01-01         25    261053         1.0            2    1    1\n",
       "4  98 2013-01-01         25    273528         2.0            2    1    1"
      ]
     },
     "execution_count": 59,
     "metadata": {},
     "output_type": "execute_result"
    }
   ],
   "source": [
    "train.head()"
   ]
  },
  {
   "cell_type": "code",
   "execution_count": 60,
   "metadata": {},
   "outputs": [
    {
     "data": {
      "text/html": [
       "<div>\n",
       "<style scoped>\n",
       "    .dataframe tbody tr th:only-of-type {\n",
       "        vertical-align: middle;\n",
       "    }\n",
       "\n",
       "    .dataframe tbody tr th {\n",
       "        vertical-align: top;\n",
       "    }\n",
       "\n",
       "    .dataframe thead th {\n",
       "        text-align: right;\n",
       "    }\n",
       "</style>\n",
       "<table border=\"1\" class=\"dataframe\">\n",
       "  <thead>\n",
       "    <tr style=\"text-align: right;\">\n",
       "      <th></th>\n",
       "      <th>id</th>\n",
       "      <th>date</th>\n",
       "      <th>store_nbr</th>\n",
       "      <th>item_nbr</th>\n",
       "      <th>onpromotion</th>\n",
       "    </tr>\n",
       "  </thead>\n",
       "  <tbody>\n",
       "    <tr>\n",
       "      <th>0</th>\n",
       "      <td>125497040</td>\n",
       "      <td>2017-08-16</td>\n",
       "      <td>1</td>\n",
       "      <td>96995</td>\n",
       "      <td>0.0</td>\n",
       "    </tr>\n",
       "    <tr>\n",
       "      <th>1</th>\n",
       "      <td>125497041</td>\n",
       "      <td>2017-08-16</td>\n",
       "      <td>1</td>\n",
       "      <td>99197</td>\n",
       "      <td>0.0</td>\n",
       "    </tr>\n",
       "    <tr>\n",
       "      <th>2</th>\n",
       "      <td>125497042</td>\n",
       "      <td>2017-08-16</td>\n",
       "      <td>1</td>\n",
       "      <td>103501</td>\n",
       "      <td>0.0</td>\n",
       "    </tr>\n",
       "    <tr>\n",
       "      <th>3</th>\n",
       "      <td>125497043</td>\n",
       "      <td>2017-08-16</td>\n",
       "      <td>1</td>\n",
       "      <td>103520</td>\n",
       "      <td>0.0</td>\n",
       "    </tr>\n",
       "    <tr>\n",
       "      <th>4</th>\n",
       "      <td>125497044</td>\n",
       "      <td>2017-08-16</td>\n",
       "      <td>1</td>\n",
       "      <td>103665</td>\n",
       "      <td>0.0</td>\n",
       "    </tr>\n",
       "  </tbody>\n",
       "</table>\n",
       "</div>"
      ],
      "text/plain": [
       "          id       date  store_nbr  item_nbr  onpromotion\n",
       "0  125497040 2017-08-16          1     96995          0.0\n",
       "1  125497041 2017-08-16          1     99197          0.0\n",
       "2  125497042 2017-08-16          1    103501          0.0\n",
       "3  125497043 2017-08-16          1    103520          0.0\n",
       "4  125497044 2017-08-16          1    103665          0.0"
      ]
     },
     "execution_count": 60,
     "metadata": {},
     "output_type": "execute_result"
    }
   ],
   "source": [
    "test.head()"
   ]
  },
  {
   "cell_type": "markdown",
   "metadata": {},
   "source": [
    "Success"
   ]
  },
  {
   "cell_type": "markdown",
   "metadata": {},
   "source": [
    "The second column that contains null values is the dcoilwtico in the oil file. It will probably be best to interpolate the missing values in some way. To start, I looked at the rows that are null. It appears there are only about 43 dates out of 1218 that are missing values. I will go ahead and simply backfill the oil prices. "
   ]
  },
  {
   "cell_type": "code",
   "execution_count": 61,
   "metadata": {},
   "outputs": [
    {
     "name": "stdout",
     "output_type": "stream",
     "text": [
      "<class 'pandas.core.frame.DataFrame'>\n",
      "RangeIndex: 1218 entries, 0 to 1217\n",
      "Data columns (total 2 columns):\n",
      "date          1218 non-null datetime64[ns]\n",
      "dcoilwtico    1175 non-null float64\n",
      "dtypes: datetime64[ns](1), float64(1)\n",
      "memory usage: 19.1 KB\n"
     ]
    }
   ],
   "source": [
    "oil.info()"
   ]
  },
  {
   "cell_type": "code",
   "execution_count": 62,
   "metadata": {},
   "outputs": [],
   "source": [
    "# Replace NaN values using backward fill to cover first date \n",
    "oil['dcoilwtico'].fillna(method='bfill', inplace=True)"
   ]
  },
  {
   "cell_type": "code",
   "execution_count": 63,
   "metadata": {},
   "outputs": [
    {
     "name": "stdout",
     "output_type": "stream",
     "text": [
      "<class 'pandas.core.frame.DataFrame'>\n",
      "RangeIndex: 1218 entries, 0 to 1217\n",
      "Data columns (total 2 columns):\n",
      "date          1218 non-null datetime64[ns]\n",
      "dcoilwtico    1218 non-null float64\n",
      "dtypes: datetime64[ns](1), float64(1)\n",
      "memory usage: 19.1 KB\n"
     ]
    }
   ],
   "source": [
    "oil.info()"
   ]
  },
  {
   "cell_type": "markdown",
   "metadata": {},
   "source": [
    "No more null values in the oil price column."
   ]
  },
  {
   "cell_type": "markdown",
   "metadata": {},
   "source": [
    "# Add Day of Week and Day of Year"
   ]
  },
  {
   "cell_type": "markdown",
   "metadata": {},
   "source": [
    "I came across a very clever idea to include the day of the week and day of the year as separate columns in the training data. This way our solution could find patterns regarding the day of the week, which probably plays a huge role in sales. It's expected that sales increase on the weekends. Special thanks to Kevin Song: \n",
    "http://kevincsong.com/Kaggle-Pt.1-Favorita-Grocery-Sales-Prediction-Data-Engineering/"
   ]
  },
  {
   "cell_type": "code",
   "execution_count": 64,
   "metadata": {},
   "outputs": [],
   "source": [
    "# Add 'dow' and 'doy'\n",
    "train['dow'] = train['date'].dt.dayofweek # adding day of week as a feature\n",
    "train['doy'] = train['date'].dt.dayofyear # adding day of year as a feature\n",
    "\n",
    "test['dow'] = test['date'].dt.dayofweek # adding day of week as a feature\n",
    "test['doy'] = test['date'].dt.dayofyear # adding day of year as a feature"
   ]
  },
  {
   "cell_type": "markdown",
   "metadata": {},
   "source": [
    "# Merge the Data into a Single DataFrame"
   ]
  },
  {
   "cell_type": "code",
   "execution_count": 66,
   "metadata": {},
   "outputs": [
    {
     "data": {
      "text/html": [
       "<div>\n",
       "<style scoped>\n",
       "    .dataframe tbody tr th:only-of-type {\n",
       "        vertical-align: middle;\n",
       "    }\n",
       "\n",
       "    .dataframe tbody tr th {\n",
       "        vertical-align: top;\n",
       "    }\n",
       "\n",
       "    .dataframe thead th {\n",
       "        text-align: right;\n",
       "    }\n",
       "</style>\n",
       "<table border=\"1\" class=\"dataframe\">\n",
       "  <thead>\n",
       "    <tr style=\"text-align: right;\">\n",
       "      <th></th>\n",
       "      <th>id</th>\n",
       "      <th>date</th>\n",
       "      <th>store_nbr</th>\n",
       "      <th>item_nbr</th>\n",
       "      <th>unit_sales</th>\n",
       "      <th>onpromotion</th>\n",
       "      <th>dow</th>\n",
       "      <th>doy</th>\n",
       "      <th>city</th>\n",
       "      <th>state</th>\n",
       "      <th>...</th>\n",
       "      <th>cluster</th>\n",
       "      <th>family</th>\n",
       "      <th>class</th>\n",
       "      <th>perishable</th>\n",
       "      <th>dcoilwtico</th>\n",
       "      <th>type_y</th>\n",
       "      <th>locale</th>\n",
       "      <th>locale_name</th>\n",
       "      <th>description</th>\n",
       "      <th>transferred</th>\n",
       "    </tr>\n",
       "  </thead>\n",
       "  <tbody>\n",
       "    <tr>\n",
       "      <th>0</th>\n",
       "      <td>25</td>\n",
       "      <td>2013-01-01</td>\n",
       "      <td>25</td>\n",
       "      <td>129635</td>\n",
       "      <td>11.0</td>\n",
       "      <td>2</td>\n",
       "      <td>1</td>\n",
       "      <td>1</td>\n",
       "      <td>Salinas</td>\n",
       "      <td>Santa Elena</td>\n",
       "      <td>...</td>\n",
       "      <td>1</td>\n",
       "      <td>DAIRY</td>\n",
       "      <td>2112</td>\n",
       "      <td>1</td>\n",
       "      <td>93.14</td>\n",
       "      <td>Holiday</td>\n",
       "      <td>National</td>\n",
       "      <td>Ecuador</td>\n",
       "      <td>Primer dia del ano</td>\n",
       "      <td>False</td>\n",
       "    </tr>\n",
       "    <tr>\n",
       "      <th>1</th>\n",
       "      <td>70</td>\n",
       "      <td>2013-01-01</td>\n",
       "      <td>25</td>\n",
       "      <td>222879</td>\n",
       "      <td>5.0</td>\n",
       "      <td>2</td>\n",
       "      <td>1</td>\n",
       "      <td>1</td>\n",
       "      <td>Salinas</td>\n",
       "      <td>Santa Elena</td>\n",
       "      <td>...</td>\n",
       "      <td>1</td>\n",
       "      <td>GROCERY I</td>\n",
       "      <td>1058</td>\n",
       "      <td>0</td>\n",
       "      <td>93.14</td>\n",
       "      <td>Holiday</td>\n",
       "      <td>National</td>\n",
       "      <td>Ecuador</td>\n",
       "      <td>Primer dia del ano</td>\n",
       "      <td>False</td>\n",
       "    </tr>\n",
       "    <tr>\n",
       "      <th>2</th>\n",
       "      <td>71</td>\n",
       "      <td>2013-01-01</td>\n",
       "      <td>25</td>\n",
       "      <td>223434</td>\n",
       "      <td>1.0</td>\n",
       "      <td>2</td>\n",
       "      <td>1</td>\n",
       "      <td>1</td>\n",
       "      <td>Salinas</td>\n",
       "      <td>Santa Elena</td>\n",
       "      <td>...</td>\n",
       "      <td>1</td>\n",
       "      <td>GROCERY I</td>\n",
       "      <td>1032</td>\n",
       "      <td>0</td>\n",
       "      <td>93.14</td>\n",
       "      <td>Holiday</td>\n",
       "      <td>National</td>\n",
       "      <td>Ecuador</td>\n",
       "      <td>Primer dia del ano</td>\n",
       "      <td>False</td>\n",
       "    </tr>\n",
       "    <tr>\n",
       "      <th>3</th>\n",
       "      <td>85</td>\n",
       "      <td>2013-01-01</td>\n",
       "      <td>25</td>\n",
       "      <td>261053</td>\n",
       "      <td>1.0</td>\n",
       "      <td>2</td>\n",
       "      <td>1</td>\n",
       "      <td>1</td>\n",
       "      <td>Salinas</td>\n",
       "      <td>Santa Elena</td>\n",
       "      <td>...</td>\n",
       "      <td>1</td>\n",
       "      <td>GROCERY I</td>\n",
       "      <td>1072</td>\n",
       "      <td>0</td>\n",
       "      <td>93.14</td>\n",
       "      <td>Holiday</td>\n",
       "      <td>National</td>\n",
       "      <td>Ecuador</td>\n",
       "      <td>Primer dia del ano</td>\n",
       "      <td>False</td>\n",
       "    </tr>\n",
       "    <tr>\n",
       "      <th>4</th>\n",
       "      <td>98</td>\n",
       "      <td>2013-01-01</td>\n",
       "      <td>25</td>\n",
       "      <td>273528</td>\n",
       "      <td>2.0</td>\n",
       "      <td>2</td>\n",
       "      <td>1</td>\n",
       "      <td>1</td>\n",
       "      <td>Salinas</td>\n",
       "      <td>Santa Elena</td>\n",
       "      <td>...</td>\n",
       "      <td>1</td>\n",
       "      <td>PERSONAL CARE</td>\n",
       "      <td>4114</td>\n",
       "      <td>0</td>\n",
       "      <td>93.14</td>\n",
       "      <td>Holiday</td>\n",
       "      <td>National</td>\n",
       "      <td>Ecuador</td>\n",
       "      <td>Primer dia del ano</td>\n",
       "      <td>False</td>\n",
       "    </tr>\n",
       "  </tbody>\n",
       "</table>\n",
       "<p>5 rows × 21 columns</p>\n",
       "</div>"
      ],
      "text/plain": [
       "   id       date  store_nbr  item_nbr  unit_sales  onpromotion  dow  doy  \\\n",
       "0  25 2013-01-01         25    129635        11.0            2    1    1   \n",
       "1  70 2013-01-01         25    222879         5.0            2    1    1   \n",
       "2  71 2013-01-01         25    223434         1.0            2    1    1   \n",
       "3  85 2013-01-01         25    261053         1.0            2    1    1   \n",
       "4  98 2013-01-01         25    273528         2.0            2    1    1   \n",
       "\n",
       "      city        state     ...     cluster         family class  perishable  \\\n",
       "0  Salinas  Santa Elena     ...           1          DAIRY  2112           1   \n",
       "1  Salinas  Santa Elena     ...           1      GROCERY I  1058           0   \n",
       "2  Salinas  Santa Elena     ...           1      GROCERY I  1032           0   \n",
       "3  Salinas  Santa Elena     ...           1      GROCERY I  1072           0   \n",
       "4  Salinas  Santa Elena     ...           1  PERSONAL CARE  4114           0   \n",
       "\n",
       "   dcoilwtico   type_y    locale locale_name         description transferred  \n",
       "0       93.14  Holiday  National     Ecuador  Primer dia del ano       False  \n",
       "1       93.14  Holiday  National     Ecuador  Primer dia del ano       False  \n",
       "2       93.14  Holiday  National     Ecuador  Primer dia del ano       False  \n",
       "3       93.14  Holiday  National     Ecuador  Primer dia del ano       False  \n",
       "4       93.14  Holiday  National     Ecuador  Primer dia del ano       False  \n",
       "\n",
       "[5 rows x 21 columns]"
      ]
     },
     "execution_count": 66,
     "metadata": {},
     "output_type": "execute_result"
    }
   ],
   "source": [
    "train_merged = pd.merge(train, stores, on='store_nbr', how='left')\n",
    "train_merged = pd.merge(train_merged, items, on='item_nbr', how='left')\n",
    "train_merged = pd.merge(train_merged, oil, on='date', how='left')\n",
    "train_merged = pd.merge(train_merged, holiday_events, on='date', how='left')\n",
    "\n",
    "train_merged.head()"
   ]
  },
  {
   "cell_type": "code",
   "execution_count": 68,
   "metadata": {},
   "outputs": [
    {
     "name": "stdout",
     "output_type": "stream",
     "text": [
      "id False\n",
      "date False\n",
      "store_nbr False\n",
      "item_nbr False\n",
      "unit_sales False\n",
      "onpromotion False\n",
      "dow False\n",
      "doy False\n",
      "city False\n",
      "state False\n",
      "type_x False\n",
      "cluster False\n",
      "family False\n",
      "class False\n",
      "perishable False\n",
      "dcoilwtico True\n",
      "type_y True\n",
      "locale True\n",
      "locale_name True\n",
      "description True\n",
      "transferred True\n"
     ]
    }
   ],
   "source": [
    "for i in train_merged.columns:\n",
    "    print(i, train_merged[i].isnull().any())"
   ]
  },
  {
   "cell_type": "markdown",
   "metadata": {},
   "source": [
    "# Sampling a Specific Item"
   ]
  },
  {
   "cell_type": "markdown",
   "metadata": {},
   "source": [
    "Just as a sanity check, I thought it would be a good idea to sample a particular item at a particular location to see what the data looked like. "
   ]
  },
  {
   "cell_type": "code",
   "execution_count": 73,
   "metadata": {},
   "outputs": [],
   "source": [
    "PN129635 = train_merged[train_merged['item_nbr'] == 129635]"
   ]
  },
  {
   "cell_type": "code",
   "execution_count": 74,
   "metadata": {},
   "outputs": [],
   "source": [
    "PN129635 = PN129635[PN129635['store_nbr'] == 25]"
   ]
  },
  {
   "cell_type": "code",
   "execution_count": 79,
   "metadata": {},
   "outputs": [
    {
     "data": {
      "text/html": [
       "<div>\n",
       "<style scoped>\n",
       "    .dataframe tbody tr th:only-of-type {\n",
       "        vertical-align: middle;\n",
       "    }\n",
       "\n",
       "    .dataframe tbody tr th {\n",
       "        vertical-align: top;\n",
       "    }\n",
       "\n",
       "    .dataframe thead th {\n",
       "        text-align: right;\n",
       "    }\n",
       "</style>\n",
       "<table border=\"1\" class=\"dataframe\">\n",
       "  <thead>\n",
       "    <tr style=\"text-align: right;\">\n",
       "      <th></th>\n",
       "      <th>id</th>\n",
       "      <th>date</th>\n",
       "      <th>store_nbr</th>\n",
       "      <th>item_nbr</th>\n",
       "      <th>unit_sales</th>\n",
       "      <th>onpromotion</th>\n",
       "      <th>dow</th>\n",
       "      <th>doy</th>\n",
       "      <th>city</th>\n",
       "      <th>state</th>\n",
       "      <th>...</th>\n",
       "      <th>cluster</th>\n",
       "      <th>family</th>\n",
       "      <th>class</th>\n",
       "      <th>perishable</th>\n",
       "      <th>dcoilwtico</th>\n",
       "      <th>type_y</th>\n",
       "      <th>locale</th>\n",
       "      <th>locale_name</th>\n",
       "      <th>description</th>\n",
       "      <th>transferred</th>\n",
       "    </tr>\n",
       "  </thead>\n",
       "  <tbody>\n",
       "    <tr>\n",
       "      <th>0</th>\n",
       "      <td>25</td>\n",
       "      <td>2013-01-01</td>\n",
       "      <td>25</td>\n",
       "      <td>129635</td>\n",
       "      <td>11.0</td>\n",
       "      <td>2</td>\n",
       "      <td>1</td>\n",
       "      <td>1</td>\n",
       "      <td>Salinas</td>\n",
       "      <td>Santa Elena</td>\n",
       "      <td>...</td>\n",
       "      <td>1</td>\n",
       "      <td>DAIRY</td>\n",
       "      <td>2112</td>\n",
       "      <td>1</td>\n",
       "      <td>93.14</td>\n",
       "      <td>Holiday</td>\n",
       "      <td>National</td>\n",
       "      <td>Ecuador</td>\n",
       "      <td>Primer dia del ano</td>\n",
       "      <td>False</td>\n",
       "    </tr>\n",
       "    <tr>\n",
       "      <th>15169</th>\n",
       "      <td>303263</td>\n",
       "      <td>2013-01-09</td>\n",
       "      <td>25</td>\n",
       "      <td>129635</td>\n",
       "      <td>8.0</td>\n",
       "      <td>2</td>\n",
       "      <td>2</td>\n",
       "      <td>9</td>\n",
       "      <td>Salinas</td>\n",
       "      <td>Santa Elena</td>\n",
       "      <td>...</td>\n",
       "      <td>1</td>\n",
       "      <td>DAIRY</td>\n",
       "      <td>2112</td>\n",
       "      <td>1</td>\n",
       "      <td>93.08</td>\n",
       "      <td>NaN</td>\n",
       "      <td>NaN</td>\n",
       "      <td>NaN</td>\n",
       "      <td>NaN</td>\n",
       "      <td>NaN</td>\n",
       "    </tr>\n",
       "    <tr>\n",
       "      <th>61598</th>\n",
       "      <td>1231095</td>\n",
       "      <td>2013-02-01</td>\n",
       "      <td>25</td>\n",
       "      <td>129635</td>\n",
       "      <td>3.0</td>\n",
       "      <td>2</td>\n",
       "      <td>4</td>\n",
       "      <td>32</td>\n",
       "      <td>Salinas</td>\n",
       "      <td>Santa Elena</td>\n",
       "      <td>...</td>\n",
       "      <td>1</td>\n",
       "      <td>DAIRY</td>\n",
       "      <td>2112</td>\n",
       "      <td>1</td>\n",
       "      <td>97.46</td>\n",
       "      <td>NaN</td>\n",
       "      <td>NaN</td>\n",
       "      <td>NaN</td>\n",
       "      <td>NaN</td>\n",
       "      <td>NaN</td>\n",
       "    </tr>\n",
       "    <tr>\n",
       "      <th>80417</th>\n",
       "      <td>1610080</td>\n",
       "      <td>2013-02-10</td>\n",
       "      <td>25</td>\n",
       "      <td>129635</td>\n",
       "      <td>30.0</td>\n",
       "      <td>2</td>\n",
       "      <td>6</td>\n",
       "      <td>41</td>\n",
       "      <td>Salinas</td>\n",
       "      <td>Santa Elena</td>\n",
       "      <td>...</td>\n",
       "      <td>1</td>\n",
       "      <td>DAIRY</td>\n",
       "      <td>2112</td>\n",
       "      <td>1</td>\n",
       "      <td>NaN</td>\n",
       "      <td>NaN</td>\n",
       "      <td>NaN</td>\n",
       "      <td>NaN</td>\n",
       "      <td>NaN</td>\n",
       "      <td>NaN</td>\n",
       "    </tr>\n",
       "    <tr>\n",
       "      <th>148918</th>\n",
       "      <td>2982700</td>\n",
       "      <td>2013-03-15</td>\n",
       "      <td>25</td>\n",
       "      <td>129635</td>\n",
       "      <td>56.0</td>\n",
       "      <td>2</td>\n",
       "      <td>4</td>\n",
       "      <td>74</td>\n",
       "      <td>Salinas</td>\n",
       "      <td>Santa Elena</td>\n",
       "      <td>...</td>\n",
       "      <td>1</td>\n",
       "      <td>DAIRY</td>\n",
       "      <td>2112</td>\n",
       "      <td>1</td>\n",
       "      <td>93.49</td>\n",
       "      <td>NaN</td>\n",
       "      <td>NaN</td>\n",
       "      <td>NaN</td>\n",
       "      <td>NaN</td>\n",
       "      <td>NaN</td>\n",
       "    </tr>\n",
       "    <tr>\n",
       "      <th>159745</th>\n",
       "      <td>3199988</td>\n",
       "      <td>2013-03-20</td>\n",
       "      <td>25</td>\n",
       "      <td>129635</td>\n",
       "      <td>4.0</td>\n",
       "      <td>2</td>\n",
       "      <td>2</td>\n",
       "      <td>79</td>\n",
       "      <td>Salinas</td>\n",
       "      <td>Santa Elena</td>\n",
       "      <td>...</td>\n",
       "      <td>1</td>\n",
       "      <td>DAIRY</td>\n",
       "      <td>2112</td>\n",
       "      <td>1</td>\n",
       "      <td>93.21</td>\n",
       "      <td>NaN</td>\n",
       "      <td>NaN</td>\n",
       "      <td>NaN</td>\n",
       "      <td>NaN</td>\n",
       "      <td>NaN</td>\n",
       "    </tr>\n",
       "    <tr>\n",
       "      <th>192358</th>\n",
       "      <td>3844012</td>\n",
       "      <td>2013-04-04</td>\n",
       "      <td>25</td>\n",
       "      <td>129635</td>\n",
       "      <td>12.0</td>\n",
       "      <td>2</td>\n",
       "      <td>3</td>\n",
       "      <td>94</td>\n",
       "      <td>Salinas</td>\n",
       "      <td>Santa Elena</td>\n",
       "      <td>...</td>\n",
       "      <td>1</td>\n",
       "      <td>DAIRY</td>\n",
       "      <td>2112</td>\n",
       "      <td>1</td>\n",
       "      <td>93.26</td>\n",
       "      <td>NaN</td>\n",
       "      <td>NaN</td>\n",
       "      <td>NaN</td>\n",
       "      <td>NaN</td>\n",
       "      <td>NaN</td>\n",
       "    </tr>\n",
       "    <tr>\n",
       "      <th>203281</th>\n",
       "      <td>4061230</td>\n",
       "      <td>2013-04-09</td>\n",
       "      <td>25</td>\n",
       "      <td>129635</td>\n",
       "      <td>9.0</td>\n",
       "      <td>2</td>\n",
       "      <td>1</td>\n",
       "      <td>99</td>\n",
       "      <td>Salinas</td>\n",
       "      <td>Santa Elena</td>\n",
       "      <td>...</td>\n",
       "      <td>1</td>\n",
       "      <td>DAIRY</td>\n",
       "      <td>2112</td>\n",
       "      <td>1</td>\n",
       "      <td>94.18</td>\n",
       "      <td>NaN</td>\n",
       "      <td>NaN</td>\n",
       "      <td>NaN</td>\n",
       "      <td>NaN</td>\n",
       "      <td>NaN</td>\n",
       "    </tr>\n",
       "    <tr>\n",
       "      <th>234944</th>\n",
       "      <td>4700617</td>\n",
       "      <td>2013-04-24</td>\n",
       "      <td>25</td>\n",
       "      <td>129635</td>\n",
       "      <td>2.0</td>\n",
       "      <td>2</td>\n",
       "      <td>2</td>\n",
       "      <td>114</td>\n",
       "      <td>Salinas</td>\n",
       "      <td>Santa Elena</td>\n",
       "      <td>...</td>\n",
       "      <td>1</td>\n",
       "      <td>DAIRY</td>\n",
       "      <td>2112</td>\n",
       "      <td>1</td>\n",
       "      <td>91.07</td>\n",
       "      <td>NaN</td>\n",
       "      <td>NaN</td>\n",
       "      <td>NaN</td>\n",
       "      <td>NaN</td>\n",
       "      <td>NaN</td>\n",
       "    </tr>\n",
       "    <tr>\n",
       "      <th>405049</th>\n",
       "      <td>7941984</td>\n",
       "      <td>2013-07-06</td>\n",
       "      <td>25</td>\n",
       "      <td>129635</td>\n",
       "      <td>13.0</td>\n",
       "      <td>2</td>\n",
       "      <td>5</td>\n",
       "      <td>187</td>\n",
       "      <td>Salinas</td>\n",
       "      <td>Santa Elena</td>\n",
       "      <td>...</td>\n",
       "      <td>1</td>\n",
       "      <td>DAIRY</td>\n",
       "      <td>2112</td>\n",
       "      <td>1</td>\n",
       "      <td>NaN</td>\n",
       "      <td>NaN</td>\n",
       "      <td>NaN</td>\n",
       "      <td>NaN</td>\n",
       "      <td>NaN</td>\n",
       "      <td>NaN</td>\n",
       "    </tr>\n",
       "  </tbody>\n",
       "</table>\n",
       "<p>10 rows × 21 columns</p>\n",
       "</div>"
      ],
      "text/plain": [
       "             id       date  store_nbr  item_nbr  unit_sales  onpromotion  dow  \\\n",
       "0            25 2013-01-01         25    129635        11.0            2    1   \n",
       "15169    303263 2013-01-09         25    129635         8.0            2    2   \n",
       "61598   1231095 2013-02-01         25    129635         3.0            2    4   \n",
       "80417   1610080 2013-02-10         25    129635        30.0            2    6   \n",
       "148918  2982700 2013-03-15         25    129635        56.0            2    4   \n",
       "159745  3199988 2013-03-20         25    129635         4.0            2    2   \n",
       "192358  3844012 2013-04-04         25    129635        12.0            2    3   \n",
       "203281  4061230 2013-04-09         25    129635         9.0            2    1   \n",
       "234944  4700617 2013-04-24         25    129635         2.0            2    2   \n",
       "405049  7941984 2013-07-06         25    129635        13.0            2    5   \n",
       "\n",
       "        doy     city        state     ...     cluster  family class  \\\n",
       "0         1  Salinas  Santa Elena     ...           1   DAIRY  2112   \n",
       "15169     9  Salinas  Santa Elena     ...           1   DAIRY  2112   \n",
       "61598    32  Salinas  Santa Elena     ...           1   DAIRY  2112   \n",
       "80417    41  Salinas  Santa Elena     ...           1   DAIRY  2112   \n",
       "148918   74  Salinas  Santa Elena     ...           1   DAIRY  2112   \n",
       "159745   79  Salinas  Santa Elena     ...           1   DAIRY  2112   \n",
       "192358   94  Salinas  Santa Elena     ...           1   DAIRY  2112   \n",
       "203281   99  Salinas  Santa Elena     ...           1   DAIRY  2112   \n",
       "234944  114  Salinas  Santa Elena     ...           1   DAIRY  2112   \n",
       "405049  187  Salinas  Santa Elena     ...           1   DAIRY  2112   \n",
       "\n",
       "        perishable  dcoilwtico   type_y    locale locale_name  \\\n",
       "0                1       93.14  Holiday  National     Ecuador   \n",
       "15169            1       93.08      NaN       NaN         NaN   \n",
       "61598            1       97.46      NaN       NaN         NaN   \n",
       "80417            1         NaN      NaN       NaN         NaN   \n",
       "148918           1       93.49      NaN       NaN         NaN   \n",
       "159745           1       93.21      NaN       NaN         NaN   \n",
       "192358           1       93.26      NaN       NaN         NaN   \n",
       "203281           1       94.18      NaN       NaN         NaN   \n",
       "234944           1       91.07      NaN       NaN         NaN   \n",
       "405049           1         NaN      NaN       NaN         NaN   \n",
       "\n",
       "               description transferred  \n",
       "0       Primer dia del ano       False  \n",
       "15169                  NaN         NaN  \n",
       "61598                  NaN         NaN  \n",
       "80417                  NaN         NaN  \n",
       "148918                 NaN         NaN  \n",
       "159745                 NaN         NaN  \n",
       "192358                 NaN         NaN  \n",
       "203281                 NaN         NaN  \n",
       "234944                 NaN         NaN  \n",
       "405049                 NaN         NaN  \n",
       "\n",
       "[10 rows x 21 columns]"
      ]
     },
     "execution_count": 79,
     "metadata": {},
     "output_type": "execute_result"
    }
   ],
   "source": [
    "PN129635.head(10)"
   ]
  },
  {
   "cell_type": "markdown",
   "metadata": {},
   "source": [
    "One thing that sticks out is that the oil price is NaN whenever the day of the week is 5 or 6. This means that the oil price isn't tracked on the weekends. This makes sense and it will probably be sufficient to forwardfill using Friday oil prices.  "
   ]
  },
  {
   "cell_type": "code",
   "execution_count": 80,
   "metadata": {},
   "outputs": [],
   "source": [
    "# Replace NaN values using forward fill to cover weekend dates using Friday's oil prices \n",
    "train_merged['dcoilwtico'].fillna(method='ffill', inplace=True)"
   ]
  },
  {
   "cell_type": "code",
   "execution_count": null,
   "metadata": {},
   "outputs": [],
   "source": []
  }
 ],
 "metadata": {
  "kernelspec": {
   "display_name": "Python 3",
   "language": "python",
   "name": "python3"
  },
  "language_info": {
   "codemirror_mode": {
    "name": "ipython",
    "version": 3
   },
   "file_extension": ".py",
   "mimetype": "text/x-python",
   "name": "python",
   "nbconvert_exporter": "python",
   "pygments_lexer": "ipython3",
   "version": "3.7.1"
  }
 },
 "nbformat": 4,
 "nbformat_minor": 2
}
